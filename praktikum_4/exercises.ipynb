{
 "cells": [
  {
   "cell_type": "markdown",
   "id": "0c39b834",
   "metadata": {},
   "source": [
    "## import library yang digunakan"
   ]
  },
  {
   "cell_type": "code",
   "execution_count": 19,
   "id": "00960a03",
   "metadata": {},
   "outputs": [],
   "source": [
    "import operator\n",
    "from itertools import chain, combinations\n",
    "from collections import defaultdict\n",
    "import pandas as pd\n",
    "import kagglehub\n",
    "import os\n",
    "from sklearn.cluster import KMeans\n",
    "import matplotlib.pyplot as plt"
   ]
  },
  {
   "cell_type": "markdown",
   "id": "15f3a901",
   "metadata": {},
   "source": [
    "## fungsi subsets, returnItemsWIthMinSupport dan joinSet"
   ]
  },
  {
   "cell_type": "code",
   "execution_count": 2,
   "id": "4a58ab3a",
   "metadata": {},
   "outputs": [],
   "source": [
    "def subsets(arr):\n",
    "    \"\"\"Returns non empty subsets of arr\"\"\"\n",
    "    return chain(*[combinations(arr, i + 1) for i, a in enumerate(arr)])\n",
    "\n",
    "def returnItemsWithMinSupport(itemSet, transactionList, minSupport, freqSet):\n",
    "    \"\"\"calculates the support for items in the itemSet and returns a subset\n",
    "       of the itemSet each of whose elements satisfies the minimum support\"\"\"\n",
    "    _itemSet = set()\n",
    "    localSet = defaultdict(int)\n",
    "\n",
    "    for item in itemSet:\n",
    "        for transaction in transactionList:\n",
    "            if item.issubset(transaction):\n",
    "                freqSet[item] += 1\n",
    "                localSet[item] += 1\n",
    "    \n",
    "    for item, count in localSet.items():\n",
    "        support = float(count) / len(transactionList)\n",
    "        \n",
    "        if support >= minSupport:\n",
    "            _itemSet.add(item)\n",
    "    \n",
    "    return _itemSet\n",
    "\n",
    "def joinSet(itemSet, length):\n",
    "    \"\"\"Join a set with itself and returns the n-element itemsets\"\"\"\n",
    "    return set([i.union(j) for i in itemSet for j in itemSet if len(i.union(j)) == length])"
   ]
  },
  {
   "cell_type": "markdown",
   "id": "f3d6c63a",
   "metadata": {},
   "source": [
    "## fungsi getItemSetTransactionList dan runApriori"
   ]
  },
  {
   "cell_type": "code",
   "execution_count": 3,
   "id": "44e20fbb",
   "metadata": {},
   "outputs": [],
   "source": [
    "\n",
    "def getItemSetTransactionList(data_iterator):\n",
    "    transactionList = list()\n",
    "    itemSet = set()\n",
    "    \n",
    "    for record in data_iterator:\n",
    "        transaction = frozenset(record)\n",
    "        transactionList.append(transaction)\n",
    "        \n",
    "        for item in transaction:\n",
    "            itemSet.add(frozenset([item])) # Generate 1-itemSets\n",
    "    \n",
    "    return itemSet, transactionList\n",
    "\n",
    "def runApriori(data_iter, minSupport, minConfidence):\n",
    "    \"\"\"\n",
    "    Run the apriori algorithm. data_iter is a record iterator\n",
    "    Return both:\n",
    "    - items (tuple, support)\n",
    "    - rules (pretuple, posttuple, confidence)\n",
    "    \"\"\"\n",
    "    itemSet, transactionList = getItemSetTransactionList(data_iter)\n",
    "\n",
    "    freqSet = defaultdict(int)\n",
    "    largeSet = dict()\n",
    "    # Global dictionary which stores (key=n-itemSets, value=support)\n",
    "    # which satisfy minSupport\n",
    "\n",
    "    oneCset = returnItemsWithMinSupport(itemSet, transactionList, minSupport, freqSet)\n",
    "    currentLset = oneCset\n",
    "    k = 2\n",
    "    while currentLset:\n",
    "        largeSet[k - 1] = currentLset\n",
    "        currentLset = joinSet(currentLset, k)\n",
    "        currentCset = returnItemsWithMinSupport(currentLset, transactionList, minSupport, freqSet)\n",
    "        currentLset = currentCset\n",
    "        k += 1\n",
    "\n",
    "    def getSupport(item):\n",
    "        \"\"\" local function which Returns the support of an item \"\"\"\n",
    "        return float(freqSet[item]) / len(transactionList)\n",
    "\n",
    "    toRetItems = []\n",
    "    for key, value in largeSet.items():\n",
    "        toRetItems.extend([(tuple(item), getSupport(item)) for item in value])\n",
    "\n",
    "    toRetRules = []\n",
    "    for key, value in list(largeSet.items())[1:]:\n",
    "        for item in value:\n",
    "            _subsets = map(frozenset, [x for x in subsets(item)])\n",
    "            for element in _subsets:\n",
    "                remain = item.difference(element)\n",
    "                if len(remain) > 0:\n",
    "                    confidence = getSupport(item) / getSupport(element)\n",
    "                    if confidence >= minConfidence:\n",
    "                        toRetRules.append(((tuple(element), tuple(remain)), confidence))\n",
    "    return toRetItems, toRetRules"
   ]
  },
  {
   "cell_type": "markdown",
   "id": "e0d12cbd",
   "metadata": {},
   "source": [
    "## fungsi printResult"
   ]
  },
  {
   "cell_type": "code",
   "execution_count": 4,
   "id": "1e30bbf4",
   "metadata": {},
   "outputs": [],
   "source": [
    "def printResults(items, rules):\n",
    "    print(\"------------ITEMS-----------------\")\n",
    "    for item, support in sorted(items, key=operator.itemgetter(1)):\n",
    "        print(f\"item: {item} , {support:.3f}\")\n",
    "\n",
    "    for item, support in sorted(items, key=operator.itemgetter(1)):\n",
    "        print(f\"item: {item} , {support:.3f}\")\n",
    "\n",
    "    print(\"\\n------------RULES-----------------\")\n",
    "    for rule, confidence in sorted(rules, key=operator.itemgetter(1)):\n",
    "        pre, post = rule\n",
    "        print(f\"Rule: {pre} ==> {post} , {confidence:.3f}\")\n",
    "    print(\"\\n\")"
   ]
  },
  {
   "cell_type": "markdown",
   "id": "ad36f6a4",
   "metadata": {},
   "source": [
    "## fungsi dataFromFile"
   ]
  },
  {
   "cell_type": "code",
   "execution_count": null,
   "id": "795fbc97",
   "metadata": {},
   "outputs": [],
   "source": [
    "def dataFromFile(fname):\n",
    "    \"\"\" Function which reads from the file and yields a generator \"\"\"\n",
    "    file_iter  = open(fname, 'r')\n",
    "    for line in file_iter:\n",
    "        line = line.strip().rstrip(\",\")\n",
    "        record = frozenset(line.split(\",\"))\n",
    "        yield record\n"
   ]
  },
  {
   "cell_type": "markdown",
   "id": "40f20103",
   "metadata": {},
   "source": [
    "## Mining Association Rules pada Dataset Penjualan"
   ]
  },
  {
   "cell_type": "code",
   "execution_count": 9,
   "id": "04b98c13",
   "metadata": {},
   "outputs": [
    {
     "name": "stdout",
     "output_type": "stream",
     "text": [
      "------------ITEMS-----------------\n",
      "item: ('Accessories', 'F', 'Adults (35-64)') , 0.150\n",
      "item: ('Accessories', '2', 'F') , 0.150\n",
      "item: ('35', 'Accessories') , 0.151\n",
      "item: ('Accessories', '2', 'M') , 0.152\n",
      "item: ('Tires and Tubes', 'M') , 0.155\n",
      "item: ('Accessories', 'Tires and Tubes', 'M') , 0.155\n",
      "item: ('Accessories', 'M', 'Adults (35-64)') , 0.157\n",
      "item: ('Youth (<25)',) , 0.158\n",
      "item: ('Accessories', '13') , 0.164\n",
      "item: ('Young Adults (25-34)', 'F') , 0.166\n",
      "item: ('1', 'Bikes') , 0.166\n",
      "item: ('Accessories', '1') , 0.167\n",
      "item: ('F', 'United States') , 0.168\n",
      "item: ('35',) , 0.168\n",
      "item: ('1', 'F') , 0.168\n",
      "item: ('1', 'Adults (35-64)') , 0.169\n",
      "item: ('2', 'Adults (35-64)') , 0.175\n",
      "item: ('Young Adults (25-34)', 'M') , 0.176\n",
      "item: ('9',) , 0.177\n",
      "item: ('2014', 'Accessories') , 0.177\n",
      "item: ('Accessories', '2016') , 0.177\n",
      "item: ('M', 'United States') , 0.179\n",
      "item: ('1', 'M') , 0.180\n",
      "item: ('2', 'F') , 0.180\n",
      "item: ('13',) , 0.182\n",
      "item: ('2', 'M') , 0.183\n",
      "item: ('Tires and Tubes', '2') , 0.193\n",
      "item: ('Accessories', 'Tires and Tubes', '2') , 0.193\n",
      "item: ('Adults (35-64)', 'United States') , 0.194\n",
      "item: ('California',) , 0.199\n",
      "item: ('California', 'United States') , 0.199\n",
      "item: ('2', 'Accessories', '5') , 0.199\n",
      "item: ('2', '5') , 0.201\n",
      "item: ('Accessories', 'Young Adults (25-34)') , 0.203\n",
      "item: ('Australia',) , 0.212\n",
      "item: ('2013',) , 0.216\n",
      "item: ('2015',) , 0.217\n",
      "item: ('Accessories', '5') , 0.221\n",
      "item: ('Accessories', 'United States') , 0.222\n",
      "item: ('Bikes',) , 0.230\n",
      "item: ('5',) , 0.240\n",
      "item: ('F', 'Adults (35-64)') , 0.243\n",
      "item: ('M', 'Adults (35-64)') , 0.251\n",
      "item: ('2014',) , 0.260\n",
      "item: ('2016',) , 0.260\n",
      "item: ('Accessories', 'F') , 0.299\n",
      "item: ('Tires and Tubes',) , 0.300\n",
      "item: ('Accessories', 'Tires and Tubes') , 0.300\n",
      "item: ('Accessories', '2') , 0.303\n",
      "item: ('Accessories', 'Adults (35-64)') , 0.307\n",
      "item: ('Accessories', 'M') , 0.321\n",
      "item: ('Young Adults (25-34)',) , 0.342\n",
      "item: ('United States',) , 0.347\n",
      "item: ('1',) , 0.348\n",
      "item: ('2',) , 0.363\n",
      "item: ('F',) , 0.484\n",
      "item: ('Adults (35-64)',) , 0.494\n",
      "item: ('M',) , 0.516\n",
      "item: ('Accessories',) , 0.620\n",
      "item: ('Accessories', 'F', 'Adults (35-64)') , 0.150\n",
      "item: ('Accessories', '2', 'F') , 0.150\n",
      "item: ('35', 'Accessories') , 0.151\n",
      "item: ('Accessories', '2', 'M') , 0.152\n",
      "item: ('Tires and Tubes', 'M') , 0.155\n",
      "item: ('Accessories', 'Tires and Tubes', 'M') , 0.155\n",
      "item: ('Accessories', 'M', 'Adults (35-64)') , 0.157\n",
      "item: ('Youth (<25)',) , 0.158\n",
      "item: ('Accessories', '13') , 0.164\n",
      "item: ('Young Adults (25-34)', 'F') , 0.166\n",
      "item: ('1', 'Bikes') , 0.166\n",
      "item: ('Accessories', '1') , 0.167\n",
      "item: ('F', 'United States') , 0.168\n",
      "item: ('35',) , 0.168\n",
      "item: ('1', 'F') , 0.168\n",
      "item: ('1', 'Adults (35-64)') , 0.169\n",
      "item: ('2', 'Adults (35-64)') , 0.175\n",
      "item: ('Young Adults (25-34)', 'M') , 0.176\n",
      "item: ('9',) , 0.177\n",
      "item: ('2014', 'Accessories') , 0.177\n",
      "item: ('Accessories', '2016') , 0.177\n",
      "item: ('M', 'United States') , 0.179\n",
      "item: ('1', 'M') , 0.180\n",
      "item: ('2', 'F') , 0.180\n",
      "item: ('13',) , 0.182\n",
      "item: ('2', 'M') , 0.183\n",
      "item: ('Tires and Tubes', '2') , 0.193\n",
      "item: ('Accessories', 'Tires and Tubes', '2') , 0.193\n",
      "item: ('Adults (35-64)', 'United States') , 0.194\n",
      "item: ('California',) , 0.199\n",
      "item: ('California', 'United States') , 0.199\n",
      "item: ('2', 'Accessories', '5') , 0.199\n",
      "item: ('2', '5') , 0.201\n",
      "item: ('Accessories', 'Young Adults (25-34)') , 0.203\n",
      "item: ('Australia',) , 0.212\n",
      "item: ('2013',) , 0.216\n",
      "item: ('2015',) , 0.217\n",
      "item: ('Accessories', '5') , 0.221\n",
      "item: ('Accessories', 'United States') , 0.222\n",
      "item: ('Bikes',) , 0.230\n",
      "item: ('5',) , 0.240\n",
      "item: ('F', 'Adults (35-64)') , 0.243\n",
      "item: ('M', 'Adults (35-64)') , 0.251\n",
      "item: ('2014',) , 0.260\n",
      "item: ('2016',) , 0.260\n",
      "item: ('Accessories', 'F') , 0.299\n",
      "item: ('Tires and Tubes',) , 0.300\n",
      "item: ('Accessories', 'Tires and Tubes') , 0.300\n",
      "item: ('Accessories', '2') , 0.303\n",
      "item: ('Accessories', 'Adults (35-64)') , 0.307\n",
      "item: ('Accessories', 'M') , 0.321\n",
      "item: ('Young Adults (25-34)',) , 0.342\n",
      "item: ('United States',) , 0.347\n",
      "item: ('1',) , 0.348\n",
      "item: ('2',) , 0.363\n",
      "item: ('F',) , 0.484\n",
      "item: ('Adults (35-64)',) , 0.494\n",
      "item: ('M',) , 0.516\n",
      "item: ('Accessories',) , 0.620\n",
      "\n",
      "------------RULES-----------------\n",
      "Rule: ('F', 'Adults (35-64)') ==> ('Accessories',) , 0.617\n",
      "Rule: ('F',) ==> ('Accessories',) , 0.618\n",
      "Rule: ('M',) ==> ('Accessories',) , 0.622\n",
      "Rule: ('Adults (35-64)',) ==> ('Accessories',) , 0.622\n",
      "Rule: ('M', 'Adults (35-64)') ==> ('Accessories',) , 0.627\n",
      "Rule: ('2', 'Accessories') ==> ('Tires and Tubes',) , 0.638\n",
      "Rule: ('United States',) ==> ('Accessories',) , 0.639\n",
      "Rule: ('Tires and Tubes',) ==> ('2',) , 0.644\n",
      "Rule: ('Tires and Tubes',) ==> ('2', 'Accessories') , 0.644\n",
      "Rule: ('Tires and Tubes', 'Accessories') ==> ('2',) , 0.644\n",
      "Rule: ('Accessories', '2') ==> ('5',) , 0.658\n",
      "Rule: ('2016',) ==> ('Accessories',) , 0.681\n",
      "Rule: ('2014',) ==> ('Accessories',) , 0.682\n",
      "Rule: ('Bikes',) ==> ('1',) , 0.724\n",
      "Rule: ('5',) ==> ('Accessories', '2') , 0.831\n",
      "Rule: ('2', 'F') ==> ('Accessories',) , 0.833\n",
      "Rule: ('2',) ==> ('Accessories',) , 0.833\n",
      "Rule: ('2', 'M') ==> ('Accessories',) , 0.834\n",
      "Rule: ('5',) ==> ('2',) , 0.838\n",
      "Rule: ('Accessories', '5') ==> ('2',) , 0.899\n",
      "Rule: ('35',) ==> ('Accessories',) , 0.899\n",
      "Rule: ('13',) ==> ('Accessories',) , 0.899\n",
      "Rule: ('5',) ==> ('Accessories',) , 0.924\n",
      "Rule: ('2', '5') ==> ('Accessories',) , 0.991\n",
      "Rule: ('Tires and Tubes',) ==> ('Accessories',) , 1.000\n",
      "Rule: ('California',) ==> ('United States',) , 1.000\n",
      "Rule: ('Tires and Tubes', 'M') ==> ('Accessories',) , 1.000\n",
      "Rule: ('2', 'Tires and Tubes') ==> ('Accessories',) , 1.000\n",
      "\n",
      "\n"
     ]
    }
   ],
   "source": [
    "path = kagglehub.dataset_download(\"prepinstaprime/europe-bike-store-sales\")\n",
    "\n",
    "data = pd.read_csv(os.path.join(path, 'Sales.csv'))\n",
    "df = pd.DataFrame(data.values)\n",
    "df.columns = data.columns\n",
    "minSupport = 0.15\n",
    "minConfidence = 0.6\n",
    "\n",
    "# ubah ke list of list\n",
    "data_iter = df.astype(str).values.tolist()\n",
    "\n",
    "items, rules = runApriori(data_iter, minSupport, minConfidence)\n",
    "printResults(items, rules)"
   ]
  },
  {
   "cell_type": "markdown",
   "id": "e4e4e42e",
   "metadata": {},
   "source": [
    "## type data dari kolom"
   ]
  },
  {
   "cell_type": "code",
   "execution_count": 11,
   "id": "aaad8f32",
   "metadata": {},
   "outputs": [
    {
     "data": {
      "application/vnd.microsoft.datawrangler.viewer.v0+json": {
       "columns": [
        {
         "name": "index",
         "rawType": "object",
         "type": "string"
        },
        {
         "name": "0",
         "rawType": "object",
         "type": "unknown"
        }
       ],
       "ref": "fa2a4106-cc4b-4ed1-aa35-98bd43a5087c",
       "rows": [
        [
         "Date",
         "object"
        ],
        [
         "Day",
         "object"
        ],
        [
         "Month",
         "object"
        ],
        [
         "Year",
         "object"
        ],
        [
         "Customer_Age",
         "object"
        ],
        [
         "Age_Group",
         "object"
        ],
        [
         "Customer_Gender",
         "object"
        ],
        [
         "Country",
         "object"
        ],
        [
         "State",
         "object"
        ],
        [
         "Product_Category",
         "object"
        ],
        [
         "Sub_Category",
         "object"
        ],
        [
         "Product",
         "object"
        ],
        [
         "Order_Quantity",
         "object"
        ],
        [
         "Unit_Cost",
         "object"
        ],
        [
         "Unit_Price",
         "object"
        ],
        [
         "Profit",
         "object"
        ],
        [
         "Cost",
         "object"
        ],
        [
         "Revenue",
         "object"
        ]
       ],
       "shape": {
        "columns": 1,
        "rows": 18
       }
      },
      "text/plain": [
       "Date                object\n",
       "Day                 object\n",
       "Month               object\n",
       "Year                object\n",
       "Customer_Age        object\n",
       "Age_Group           object\n",
       "Customer_Gender     object\n",
       "Country             object\n",
       "State               object\n",
       "Product_Category    object\n",
       "Sub_Category        object\n",
       "Product             object\n",
       "Order_Quantity      object\n",
       "Unit_Cost           object\n",
       "Unit_Price          object\n",
       "Profit              object\n",
       "Cost                object\n",
       "Revenue             object\n",
       "dtype: object"
      ]
     },
     "execution_count": 11,
     "metadata": {},
     "output_type": "execute_result"
    }
   ],
   "source": [
    "df.dtypes"
   ]
  },
  {
   "cell_type": "markdown",
   "id": "be87763b",
   "metadata": {},
   "source": [
    "## data processing"
   ]
  },
  {
   "cell_type": "code",
   "execution_count": 20,
   "id": "95d0aba9",
   "metadata": {},
   "outputs": [
    {
     "data": {
      "application/vnd.microsoft.datawrangler.viewer.v0+json": {
       "columns": [
        {
         "name": "index",
         "rawType": "int64",
         "type": "integer"
        },
        {
         "name": "Date",
         "rawType": "object",
         "type": "string"
        },
        {
         "name": "Day",
         "rawType": "object",
         "type": "unknown"
        },
        {
         "name": "Month",
         "rawType": "object",
         "type": "string"
        },
        {
         "name": "Year",
         "rawType": "object",
         "type": "unknown"
        },
        {
         "name": "Customer_Age",
         "rawType": "object",
         "type": "unknown"
        },
        {
         "name": "Age_Group",
         "rawType": "object",
         "type": "string"
        },
        {
         "name": "Customer_Gender",
         "rawType": "object",
         "type": "string"
        },
        {
         "name": "Country",
         "rawType": "object",
         "type": "string"
        },
        {
         "name": "State",
         "rawType": "object",
         "type": "string"
        },
        {
         "name": "Product_Category",
         "rawType": "object",
         "type": "string"
        },
        {
         "name": "Sub_Category",
         "rawType": "object",
         "type": "string"
        },
        {
         "name": "Product",
         "rawType": "object",
         "type": "string"
        },
        {
         "name": "Order_Quantity",
         "rawType": "object",
         "type": "unknown"
        },
        {
         "name": "Unit_Cost",
         "rawType": "object",
         "type": "unknown"
        },
        {
         "name": "Unit_Price",
         "rawType": "object",
         "type": "unknown"
        },
        {
         "name": "Profit",
         "rawType": "float64",
         "type": "float"
        },
        {
         "name": "Cost",
         "rawType": "object",
         "type": "unknown"
        },
        {
         "name": "Revenue",
         "rawType": "object",
         "type": "unknown"
        },
        {
         "name": "Cluster",
         "rawType": "int32",
         "type": "integer"
        }
       ],
       "ref": "4dc67b20-9c42-4e18-921f-60b9cc7d2515",
       "rows": [
        [
         "0",
         "2013-11-26",
         "26",
         "November",
         "2013",
         "19",
         "Youth (<25)",
         "M",
         "Canada",
         "British Columbia",
         "Accessories",
         "Bike Racks",
         "Hitch Rack - 4-Bike",
         "8",
         "45",
         "120",
         "590.0",
         "360",
         "950",
         "1"
        ],
        [
         "1",
         "2015-11-26",
         "26",
         "November",
         "2015",
         "19",
         "Youth (<25)",
         "M",
         "Canada",
         "British Columbia",
         "Accessories",
         "Bike Racks",
         "Hitch Rack - 4-Bike",
         "8",
         "45",
         "120",
         "590.0",
         "360",
         "950",
         "1"
        ],
        [
         "2",
         "2014-03-23",
         "23",
         "March",
         "2014",
         "49",
         "Adults (35-64)",
         "M",
         "Australia",
         "New South Wales",
         "Accessories",
         "Bike Racks",
         "Hitch Rack - 4-Bike",
         "23",
         "45",
         "120",
         "1366.0",
         "1035",
         "2401",
         "0"
        ],
        [
         "3",
         "2016-03-23",
         "23",
         "March",
         "2016",
         "49",
         "Adults (35-64)",
         "M",
         "Australia",
         "New South Wales",
         "Accessories",
         "Bike Racks",
         "Hitch Rack - 4-Bike",
         "20",
         "45",
         "120",
         "1188.0",
         "900",
         "2088",
         "0"
        ],
        [
         "4",
         "2014-05-15",
         "15",
         "May",
         "2014",
         "47",
         "Adults (35-64)",
         "F",
         "Australia",
         "New South Wales",
         "Accessories",
         "Bike Racks",
         "Hitch Rack - 4-Bike",
         "4",
         "45",
         "120",
         "238.0",
         "180",
         "418",
         "1"
        ]
       ],
       "shape": {
        "columns": 19,
        "rows": 5
       }
      },
      "text/html": [
       "<div>\n",
       "<style scoped>\n",
       "    .dataframe tbody tr th:only-of-type {\n",
       "        vertical-align: middle;\n",
       "    }\n",
       "\n",
       "    .dataframe tbody tr th {\n",
       "        vertical-align: top;\n",
       "    }\n",
       "\n",
       "    .dataframe thead th {\n",
       "        text-align: right;\n",
       "    }\n",
       "</style>\n",
       "<table border=\"1\" class=\"dataframe\">\n",
       "  <thead>\n",
       "    <tr style=\"text-align: right;\">\n",
       "      <th></th>\n",
       "      <th>Date</th>\n",
       "      <th>Day</th>\n",
       "      <th>Month</th>\n",
       "      <th>Year</th>\n",
       "      <th>Customer_Age</th>\n",
       "      <th>Age_Group</th>\n",
       "      <th>Customer_Gender</th>\n",
       "      <th>Country</th>\n",
       "      <th>State</th>\n",
       "      <th>Product_Category</th>\n",
       "      <th>Sub_Category</th>\n",
       "      <th>Product</th>\n",
       "      <th>Order_Quantity</th>\n",
       "      <th>Unit_Cost</th>\n",
       "      <th>Unit_Price</th>\n",
       "      <th>Profit</th>\n",
       "      <th>Cost</th>\n",
       "      <th>Revenue</th>\n",
       "      <th>Cluster</th>\n",
       "    </tr>\n",
       "  </thead>\n",
       "  <tbody>\n",
       "    <tr>\n",
       "      <th>0</th>\n",
       "      <td>2013-11-26</td>\n",
       "      <td>26</td>\n",
       "      <td>November</td>\n",
       "      <td>2013</td>\n",
       "      <td>19</td>\n",
       "      <td>Youth (&lt;25)</td>\n",
       "      <td>M</td>\n",
       "      <td>Canada</td>\n",
       "      <td>British Columbia</td>\n",
       "      <td>Accessories</td>\n",
       "      <td>Bike Racks</td>\n",
       "      <td>Hitch Rack - 4-Bike</td>\n",
       "      <td>8</td>\n",
       "      <td>45</td>\n",
       "      <td>120</td>\n",
       "      <td>590.0</td>\n",
       "      <td>360</td>\n",
       "      <td>950</td>\n",
       "      <td>1</td>\n",
       "    </tr>\n",
       "    <tr>\n",
       "      <th>1</th>\n",
       "      <td>2015-11-26</td>\n",
       "      <td>26</td>\n",
       "      <td>November</td>\n",
       "      <td>2015</td>\n",
       "      <td>19</td>\n",
       "      <td>Youth (&lt;25)</td>\n",
       "      <td>M</td>\n",
       "      <td>Canada</td>\n",
       "      <td>British Columbia</td>\n",
       "      <td>Accessories</td>\n",
       "      <td>Bike Racks</td>\n",
       "      <td>Hitch Rack - 4-Bike</td>\n",
       "      <td>8</td>\n",
       "      <td>45</td>\n",
       "      <td>120</td>\n",
       "      <td>590.0</td>\n",
       "      <td>360</td>\n",
       "      <td>950</td>\n",
       "      <td>1</td>\n",
       "    </tr>\n",
       "    <tr>\n",
       "      <th>2</th>\n",
       "      <td>2014-03-23</td>\n",
       "      <td>23</td>\n",
       "      <td>March</td>\n",
       "      <td>2014</td>\n",
       "      <td>49</td>\n",
       "      <td>Adults (35-64)</td>\n",
       "      <td>M</td>\n",
       "      <td>Australia</td>\n",
       "      <td>New South Wales</td>\n",
       "      <td>Accessories</td>\n",
       "      <td>Bike Racks</td>\n",
       "      <td>Hitch Rack - 4-Bike</td>\n",
       "      <td>23</td>\n",
       "      <td>45</td>\n",
       "      <td>120</td>\n",
       "      <td>1366.0</td>\n",
       "      <td>1035</td>\n",
       "      <td>2401</td>\n",
       "      <td>0</td>\n",
       "    </tr>\n",
       "    <tr>\n",
       "      <th>3</th>\n",
       "      <td>2016-03-23</td>\n",
       "      <td>23</td>\n",
       "      <td>March</td>\n",
       "      <td>2016</td>\n",
       "      <td>49</td>\n",
       "      <td>Adults (35-64)</td>\n",
       "      <td>M</td>\n",
       "      <td>Australia</td>\n",
       "      <td>New South Wales</td>\n",
       "      <td>Accessories</td>\n",
       "      <td>Bike Racks</td>\n",
       "      <td>Hitch Rack - 4-Bike</td>\n",
       "      <td>20</td>\n",
       "      <td>45</td>\n",
       "      <td>120</td>\n",
       "      <td>1188.0</td>\n",
       "      <td>900</td>\n",
       "      <td>2088</td>\n",
       "      <td>0</td>\n",
       "    </tr>\n",
       "    <tr>\n",
       "      <th>4</th>\n",
       "      <td>2014-05-15</td>\n",
       "      <td>15</td>\n",
       "      <td>May</td>\n",
       "      <td>2014</td>\n",
       "      <td>47</td>\n",
       "      <td>Adults (35-64)</td>\n",
       "      <td>F</td>\n",
       "      <td>Australia</td>\n",
       "      <td>New South Wales</td>\n",
       "      <td>Accessories</td>\n",
       "      <td>Bike Racks</td>\n",
       "      <td>Hitch Rack - 4-Bike</td>\n",
       "      <td>4</td>\n",
       "      <td>45</td>\n",
       "      <td>120</td>\n",
       "      <td>238.0</td>\n",
       "      <td>180</td>\n",
       "      <td>418</td>\n",
       "      <td>1</td>\n",
       "    </tr>\n",
       "  </tbody>\n",
       "</table>\n",
       "</div>"
      ],
      "text/plain": [
       "         Date Day     Month  Year Customer_Age       Age_Group  \\\n",
       "0  2013-11-26  26  November  2013           19     Youth (<25)   \n",
       "1  2015-11-26  26  November  2015           19     Youth (<25)   \n",
       "2  2014-03-23  23     March  2014           49  Adults (35-64)   \n",
       "3  2016-03-23  23     March  2016           49  Adults (35-64)   \n",
       "4  2014-05-15  15       May  2014           47  Adults (35-64)   \n",
       "\n",
       "  Customer_Gender    Country             State Product_Category Sub_Category  \\\n",
       "0               M     Canada  British Columbia      Accessories   Bike Racks   \n",
       "1               M     Canada  British Columbia      Accessories   Bike Racks   \n",
       "2               M  Australia   New South Wales      Accessories   Bike Racks   \n",
       "3               M  Australia   New South Wales      Accessories   Bike Racks   \n",
       "4               F  Australia   New South Wales      Accessories   Bike Racks   \n",
       "\n",
       "               Product Order_Quantity Unit_Cost Unit_Price  Profit  Cost  \\\n",
       "0  Hitch Rack - 4-Bike              8        45        120   590.0   360   \n",
       "1  Hitch Rack - 4-Bike              8        45        120   590.0   360   \n",
       "2  Hitch Rack - 4-Bike             23        45        120  1366.0  1035   \n",
       "3  Hitch Rack - 4-Bike             20        45        120  1188.0   900   \n",
       "4  Hitch Rack - 4-Bike              4        45        120   238.0   180   \n",
       "\n",
       "  Revenue  Cluster  \n",
       "0     950        1  \n",
       "1     950        1  \n",
       "2    2401        0  \n",
       "3    2088        0  \n",
       "4     418        1  "
      ]
     },
     "execution_count": 20,
     "metadata": {},
     "output_type": "execute_result"
    }
   ],
   "source": [
    "\n",
    "\n",
    "df['Profit'] = df['Profit'].astype(str).str.replace(',', '').astype(float)\n",
    "\n",
    "df.dropna(subset=['Profit'], axis=0, inplace=True)\n",
    "df = df[~df['Profit'].isin([0])]\n",
    "df.head(5)"
   ]
  },
  {
   "cell_type": "code",
   "execution_count": null,
   "id": "6619b03e",
   "metadata": {},
   "outputs": [],
   "source": []
  },
  {
   "cell_type": "markdown",
   "id": "4992f5b8",
   "metadata": {},
   "source": [
    "## data transformation"
   ]
  },
  {
   "cell_type": "code",
   "execution_count": 17,
   "id": "2d49d3b8",
   "metadata": {},
   "outputs": [
    {
     "name": "stderr",
     "output_type": "stream",
     "text": [
      "C:\\Users\\asus\\AppData\\Local\\Temp\\ipykernel_26468\\686365993.py:11: SettingWithCopyWarning: \n",
      "A value is trying to be set on a copy of a slice from a DataFrame.\n",
      "Try using .loc[row_indexer,col_indexer] = value instead\n",
      "\n",
      "See the caveats in the documentation: https://pandas.pydata.org/pandas-docs/stable/user_guide/indexing.html#returning-a-view-versus-a-copy\n",
      "  df_bulan_gt_6['Cost'] = df_bulan_gt_6['Cost'].astype(float)\n"
     ]
    },
    {
     "data": {
      "application/vnd.microsoft.datawrangler.viewer.v0+json": {
       "columns": [
        {
         "name": "index",
         "rawType": "int64",
         "type": "integer"
        },
        {
         "name": "Date",
         "rawType": "object",
         "type": "string"
        },
        {
         "name": "Day",
         "rawType": "object",
         "type": "unknown"
        },
        {
         "name": "Month",
         "rawType": "object",
         "type": "string"
        },
        {
         "name": "Year",
         "rawType": "object",
         "type": "unknown"
        },
        {
         "name": "Customer_Age",
         "rawType": "object",
         "type": "unknown"
        },
        {
         "name": "Age_Group",
         "rawType": "object",
         "type": "string"
        },
        {
         "name": "Customer_Gender",
         "rawType": "object",
         "type": "string"
        },
        {
         "name": "Country",
         "rawType": "object",
         "type": "string"
        },
        {
         "name": "State",
         "rawType": "object",
         "type": "string"
        },
        {
         "name": "Product_Category",
         "rawType": "object",
         "type": "string"
        },
        {
         "name": "Sub_Category",
         "rawType": "object",
         "type": "string"
        },
        {
         "name": "Product",
         "rawType": "object",
         "type": "string"
        },
        {
         "name": "Order_Quantity",
         "rawType": "object",
         "type": "unknown"
        },
        {
         "name": "Unit_Cost",
         "rawType": "object",
         "type": "unknown"
        },
        {
         "name": "Unit_Price",
         "rawType": "object",
         "type": "unknown"
        },
        {
         "name": "Profit",
         "rawType": "float64",
         "type": "float"
        },
        {
         "name": "Cost",
         "rawType": "float64",
         "type": "float"
        },
        {
         "name": "Revenue",
         "rawType": "object",
         "type": "unknown"
        }
       ],
       "ref": "8e9b0f3e-fd89-4544-8834-6f6c7cfac8bb",
       "rows": [
        [
         "0",
         "2013-11-30",
         "30",
         "November",
         "2013",
         "24",
         "Youth (<25)",
         "F",
         "Canada",
         "British Columbia",
         "Accessories",
         "Tires and Tubes",
         "Patch Kit/8 Patches",
         "1",
         "1",
         "2",
         "1.0",
         "1.0",
         "2"
        ],
        [
         "1",
         "2015-09-12",
         "12",
         "September",
         "2015",
         "48",
         "Adults (35-64)",
         "F",
         "Canada",
         "British Columbia",
         "Accessories",
         "Tires and Tubes",
         "Road Tire Tube",
         "1",
         "1",
         "4",
         "3.0",
         "1.0",
         "4"
        ]
       ],
       "shape": {
        "columns": 18,
        "rows": 2
       }
      },
      "text/html": [
       "<div>\n",
       "<style scoped>\n",
       "    .dataframe tbody tr th:only-of-type {\n",
       "        vertical-align: middle;\n",
       "    }\n",
       "\n",
       "    .dataframe tbody tr th {\n",
       "        vertical-align: top;\n",
       "    }\n",
       "\n",
       "    .dataframe thead th {\n",
       "        text-align: right;\n",
       "    }\n",
       "</style>\n",
       "<table border=\"1\" class=\"dataframe\">\n",
       "  <thead>\n",
       "    <tr style=\"text-align: right;\">\n",
       "      <th></th>\n",
       "      <th>Date</th>\n",
       "      <th>Day</th>\n",
       "      <th>Month</th>\n",
       "      <th>Year</th>\n",
       "      <th>Customer_Age</th>\n",
       "      <th>Age_Group</th>\n",
       "      <th>Customer_Gender</th>\n",
       "      <th>Country</th>\n",
       "      <th>State</th>\n",
       "      <th>Product_Category</th>\n",
       "      <th>Sub_Category</th>\n",
       "      <th>Product</th>\n",
       "      <th>Order_Quantity</th>\n",
       "      <th>Unit_Cost</th>\n",
       "      <th>Unit_Price</th>\n",
       "      <th>Profit</th>\n",
       "      <th>Cost</th>\n",
       "      <th>Revenue</th>\n",
       "    </tr>\n",
       "  </thead>\n",
       "  <tbody>\n",
       "    <tr>\n",
       "      <th>0</th>\n",
       "      <td>2013-11-30</td>\n",
       "      <td>30</td>\n",
       "      <td>November</td>\n",
       "      <td>2013</td>\n",
       "      <td>24</td>\n",
       "      <td>Youth (&lt;25)</td>\n",
       "      <td>F</td>\n",
       "      <td>Canada</td>\n",
       "      <td>British Columbia</td>\n",
       "      <td>Accessories</td>\n",
       "      <td>Tires and Tubes</td>\n",
       "      <td>Patch Kit/8 Patches</td>\n",
       "      <td>1</td>\n",
       "      <td>1</td>\n",
       "      <td>2</td>\n",
       "      <td>1.0</td>\n",
       "      <td>1.0</td>\n",
       "      <td>2</td>\n",
       "    </tr>\n",
       "    <tr>\n",
       "      <th>1</th>\n",
       "      <td>2015-09-12</td>\n",
       "      <td>12</td>\n",
       "      <td>September</td>\n",
       "      <td>2015</td>\n",
       "      <td>48</td>\n",
       "      <td>Adults (35-64)</td>\n",
       "      <td>F</td>\n",
       "      <td>Canada</td>\n",
       "      <td>British Columbia</td>\n",
       "      <td>Accessories</td>\n",
       "      <td>Tires and Tubes</td>\n",
       "      <td>Road Tire Tube</td>\n",
       "      <td>1</td>\n",
       "      <td>1</td>\n",
       "      <td>4</td>\n",
       "      <td>3.0</td>\n",
       "      <td>1.0</td>\n",
       "      <td>4</td>\n",
       "    </tr>\n",
       "  </tbody>\n",
       "</table>\n",
       "</div>"
      ],
      "text/plain": [
       "         Date Day      Month  Year Customer_Age       Age_Group  \\\n",
       "0  2013-11-30  30   November  2013           24     Youth (<25)   \n",
       "1  2015-09-12  12  September  2015           48  Adults (35-64)   \n",
       "\n",
       "  Customer_Gender Country             State Product_Category     Sub_Category  \\\n",
       "0               F  Canada  British Columbia      Accessories  Tires and Tubes   \n",
       "1               F  Canada  British Columbia      Accessories  Tires and Tubes   \n",
       "\n",
       "               Product Order_Quantity Unit_Cost Unit_Price  Profit  Cost  \\\n",
       "0  Patch Kit/8 Patches              1         1          2     1.0   1.0   \n",
       "1       Road Tire Tube              1         1          4     3.0   1.0   \n",
       "\n",
       "  Revenue  \n",
       "0       2  \n",
       "1       4  "
      ]
     },
     "execution_count": 17,
     "metadata": {},
     "output_type": "execute_result"
    }
   ],
   "source": [
    "import calendar\n",
    "\n",
    "# Filter data untuk bulan > 6\n",
    "df_bulan_gt_6 = df[df['Month'].apply(lambda x: str(x).isdigit() and int(x) > 6)]\n",
    "\n",
    "# Jika kolom 'Month' berisi nama bulan, ubah ke angka\n",
    "month_map = {month: idx for idx, month in enumerate(calendar.month_name) if month}\n",
    "df_bulan_gt_6 = df[df['Month'].apply(lambda x: month_map.get(x, 0) > 6)]\n",
    "\n",
    "# Pastikan kolom 'Cost' bertipe float sebelum groupby\n",
    "df_bulan_gt_6['Cost'] = df_bulan_gt_6['Cost'].astype(float)\n",
    "# Grup berdasarkan bulan dan ambil baris dengan biaya paling murah di setiap grup\n",
    "result = df_bulan_gt_6.loc[df_bulan_gt_6.groupby('Month')['Cost'].idxmin()]\n",
    "\n",
    "result.reset_index(drop=True, inplace=True)\n",
    "result.head()"
   ]
  },
  {
   "cell_type": "markdown",
   "id": "08e537ab",
   "metadata": {},
   "source": [
    "## clustering"
   ]
  },
  {
   "cell_type": "code",
   "execution_count": 18,
   "id": "9ce06f1a",
   "metadata": {},
   "outputs": [
    {
     "data": {
      "image/png": "[encoded data removed]",
      "text/plain": [
       "<Figure size 640x480 with 1 Axes>"
      ]
     },
     "metadata": {},
     "output_type": "display_data"
    }
   ],
   "source": [
    "kmeans = KMeans(n_clusters=3)\n",
    "\n",
    "# jumlah cluster\n",
    "k = 3\n",
    "\n",
    "# memilih kolom untuk clustering\n",
    "X = df[['Profit', 'Cost']]\n",
    "\n",
    "\n",
    "# melakukan clustering\n",
    "kmeans = KMeans(n_clusters=k)\n",
    "df['Cluster'] = kmeans.fit_predict(X)\n",
    "\n",
    "plt.scatter(df['Profit'], df['Cost'], c=df['Cluster'])\n",
    "plt.xlabel('Profit')\n",
    "plt.ylabel('Cost')\n",
    "plt.title('K-Means Clustering of Profit and Cost')\n",
    "plt.show()\n"
   ]
  }
 ],
 "metadata": {
  "kernelspec": {
   "display_name": "Python 3",
   "language": "python",
   "name": "python3"
  },
  "language_info": {
   "codemirror_mode": {
    "name": "ipython",
    "version": 3
   },
   "file_extension": ".py",
   "mimetype": "text/x-python",
   "name": "python",
   "nbconvert_exporter": "python",
   "pygments_lexer": "ipython3",
   "version": "3.13.7"
  }
 },
 "nbformat": 4,
 "nbformat_minor": 5
}
