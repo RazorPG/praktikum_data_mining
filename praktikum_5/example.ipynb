{
 "cells": [
  {
   "cell_type": "markdown",
   "id": "605361fc",
   "metadata": {},
   "source": [
    "## import library yang digunakan"
   ]
  },
  {
   "cell_type": "code",
   "execution_count": 1,
   "id": "12e88c6c",
   "metadata": {},
   "outputs": [],
   "source": [
    "from sklearn.cluster import KMeans\n",
    "from openpyxl import load_workbook\n",
    "import pandas as pd\n",
    "import matplotlib.pyplot as plt"
   ]
  },
  {
   "cell_type": "markdown",
   "id": "805d5fa2",
   "metadata": {},
   "source": [
    "## baca data excel"
   ]
  },
  {
   "cell_type": "code",
   "execution_count": 2,
   "id": "24cf7f42",
   "metadata": {},
   "outputs": [
    {
     "name": "stderr",
     "output_type": "stream",
     "text": [
      "<>:1: SyntaxWarning: invalid escape sequence '\\S'\n",
      "<>:1: SyntaxWarning: invalid escape sequence '\\S'\n",
      "C:\\Users\\asus\\AppData\\Local\\Temp\\ipykernel_23828\\2553945146.py:1: SyntaxWarning: invalid escape sequence '\\S'\n",
      "  wb = load_workbook(\"D:\\Studied_at_UNP\\SEMESTER-5\\praktikum_data_mining\\praktikum_5\\Data Alumni.xlsx\")\n"
     ]
    }
   ],
   "source": [
    "wb = load_workbook(\"D:\\Studied_at_UNP\\SEMESTER-5\\praktikum_data_mining\\praktikum_5\\Data Alumni.xlsx\")\n",
    "sheet_ranges = wb['Sheet1']\n",
    "df = pd.DataFrame(sheet_ranges.values)\n",
    "\n"
   ]
  },
  {
   "cell_type": "markdown",
   "id": "5873a0da",
   "metadata": {},
   "source": [
    "## seleksi kolom dari dataframe"
   ]
  },
  {
   "cell_type": "code",
   "execution_count": 3,
   "id": "ec472692",
   "metadata": {},
   "outputs": [
    {
     "data": {
      "application/vnd.microsoft.datawrangler.viewer.v0+json": {
       "columns": [
        {
         "name": "index",
         "rawType": "int64",
         "type": "integer"
        },
        {
         "name": "NIM",
         "rawType": "object",
         "type": "unknown"
        },
        {
         "name": "TTL",
         "rawType": "object",
         "type": "string"
        },
        {
         "name": "IPK",
         "rawType": "object",
         "type": "unknown"
        },
        {
         "name": "Masa Tunggu",
         "rawType": "object",
         "type": "unknown"
        },
        {
         "name": "Tahun Masuk",
         "rawType": "object",
         "type": "unknown"
        },
        {
         "name": "Tahun Lulus",
         "rawType": "object",
         "type": "unknown"
        },
        {
         "name": "Gaji",
         "rawType": "object",
         "type": "unknown"
        },
        {
         "name": "TOEFL",
         "rawType": "object",
         "type": "unknown"
        }
       ],
       "ref": "ff0338da-8bb4-440f-8849-53191d24b7a9",
       "rows": [
        [
         "1",
         "9018263",
         "Tapuih, 4 November 1989",
         "2.13",
         "2.4",
         "2009",
         "2016",
         "2000000",
         "390"
        ],
        [
         "2",
         "9018269",
         "Koto Anau, 19 Desember 1990",
         "2.75",
         "2.4",
         "2009",
         "2016",
         "2000000",
         "413"
        ],
        [
         "3",
         "9020026",
         "Lampung, 27 Maret 1992",
         "3.24",
         "2.4",
         "2009",
         "2016",
         "2000000",
         "400"
        ],
        [
         "4",
         "12018060",
         "Padang, 23 Maret 1994",
         "3.37",
         "2.4",
         "2012",
         "2016",
         "2000000",
         "396"
        ],
        [
         "5",
         "11018022",
         "Jakarta, 22 Juni 1993",
         "3.2",
         "2.4",
         "2011",
         "2016",
         "2000000",
         "460"
        ],
        [
         "6",
         "9018212",
         "Pekanbaru, 3 Juni 1991",
         "3.24",
         "0",
         "2009",
         "2016",
         "1200000",
         "403"
        ],
        [
         "7",
         "9018301",
         "Purbalingga, 08 Oktober 1991",
         "3.06",
         "2.4",
         "2009",
         "2016",
         "2000000",
         "450"
        ],
        [
         "8",
         "12022020",
         "Bukittinggi, 29 Maret 1992",
         "3.47",
         "2.4",
         "2012",
         "2016",
         "1500000",
         "423"
        ]
       ],
       "shape": {
        "columns": 8,
        "rows": 8
       }
      },
      "text/html": [
       "<div>\n",
       "<style scoped>\n",
       "    .dataframe tbody tr th:only-of-type {\n",
       "        vertical-align: middle;\n",
       "    }\n",
       "\n",
       "    .dataframe tbody tr th {\n",
       "        vertical-align: top;\n",
       "    }\n",
       "\n",
       "    .dataframe thead th {\n",
       "        text-align: right;\n",
       "    }\n",
       "</style>\n",
       "<table border=\"1\" class=\"dataframe\">\n",
       "  <thead>\n",
       "    <tr style=\"text-align: right;\">\n",
       "      <th></th>\n",
       "      <th>NIM</th>\n",
       "      <th>TTL</th>\n",
       "      <th>IPK</th>\n",
       "      <th>Masa Tunggu</th>\n",
       "      <th>Tahun Masuk</th>\n",
       "      <th>Tahun Lulus</th>\n",
       "      <th>Gaji</th>\n",
       "      <th>TOEFL</th>\n",
       "    </tr>\n",
       "  </thead>\n",
       "  <tbody>\n",
       "    <tr>\n",
       "      <th>1</th>\n",
       "      <td>9018263</td>\n",
       "      <td>Tapuih, 4 November 1989</td>\n",
       "      <td>2.13</td>\n",
       "      <td>2.4</td>\n",
       "      <td>2009</td>\n",
       "      <td>2016</td>\n",
       "      <td>2000000</td>\n",
       "      <td>390</td>\n",
       "    </tr>\n",
       "    <tr>\n",
       "      <th>2</th>\n",
       "      <td>9018269</td>\n",
       "      <td>Koto Anau, 19 Desember 1990</td>\n",
       "      <td>2.75</td>\n",
       "      <td>2.4</td>\n",
       "      <td>2009</td>\n",
       "      <td>2016</td>\n",
       "      <td>2000000</td>\n",
       "      <td>413</td>\n",
       "    </tr>\n",
       "    <tr>\n",
       "      <th>3</th>\n",
       "      <td>9020026</td>\n",
       "      <td>Lampung, 27 Maret 1992</td>\n",
       "      <td>3.24</td>\n",
       "      <td>2.4</td>\n",
       "      <td>2009</td>\n",
       "      <td>2016</td>\n",
       "      <td>2000000</td>\n",
       "      <td>400</td>\n",
       "    </tr>\n",
       "    <tr>\n",
       "      <th>4</th>\n",
       "      <td>12018060</td>\n",
       "      <td>Padang, 23 Maret 1994</td>\n",
       "      <td>3.37</td>\n",
       "      <td>2.4</td>\n",
       "      <td>2012</td>\n",
       "      <td>2016</td>\n",
       "      <td>2000000</td>\n",
       "      <td>396</td>\n",
       "    </tr>\n",
       "    <tr>\n",
       "      <th>5</th>\n",
       "      <td>11018022</td>\n",
       "      <td>Jakarta, 22 Juni 1993</td>\n",
       "      <td>3.2</td>\n",
       "      <td>2.4</td>\n",
       "      <td>2011</td>\n",
       "      <td>2016</td>\n",
       "      <td>2000000</td>\n",
       "      <td>460</td>\n",
       "    </tr>\n",
       "    <tr>\n",
       "      <th>6</th>\n",
       "      <td>9018212</td>\n",
       "      <td>Pekanbaru, 3 Juni 1991</td>\n",
       "      <td>3.24</td>\n",
       "      <td>0</td>\n",
       "      <td>2009</td>\n",
       "      <td>2016</td>\n",
       "      <td>1200000</td>\n",
       "      <td>403</td>\n",
       "    </tr>\n",
       "    <tr>\n",
       "      <th>7</th>\n",
       "      <td>9018301</td>\n",
       "      <td>Purbalingga, 08 Oktober 1991</td>\n",
       "      <td>3.06</td>\n",
       "      <td>2.4</td>\n",
       "      <td>2009</td>\n",
       "      <td>2016</td>\n",
       "      <td>2000000</td>\n",
       "      <td>450</td>\n",
       "    </tr>\n",
       "    <tr>\n",
       "      <th>8</th>\n",
       "      <td>12022020</td>\n",
       "      <td>Bukittinggi, 29 Maret 1992</td>\n",
       "      <td>3.47</td>\n",
       "      <td>2.4</td>\n",
       "      <td>2012</td>\n",
       "      <td>2016</td>\n",
       "      <td>1500000</td>\n",
       "      <td>423</td>\n",
       "    </tr>\n",
       "  </tbody>\n",
       "</table>\n",
       "</div>"
      ],
      "text/plain": [
       "        NIM                           TTL   IPK Masa Tunggu Tahun Masuk  \\\n",
       "1   9018263       Tapuih, 4 November 1989  2.13         2.4        2009   \n",
       "2   9018269   Koto Anau, 19 Desember 1990  2.75         2.4        2009   \n",
       "3   9020026        Lampung, 27 Maret 1992  3.24         2.4        2009   \n",
       "4  12018060         Padang, 23 Maret 1994  3.37         2.4        2012   \n",
       "5  11018022         Jakarta, 22 Juni 1993   3.2         2.4        2011   \n",
       "6   9018212        Pekanbaru, 3 Juni 1991  3.24           0        2009   \n",
       "7   9018301  Purbalingga, 08 Oktober 1991  3.06         2.4        2009   \n",
       "8  12022020    Bukittinggi, 29 Maret 1992  3.47         2.4        2012   \n",
       "\n",
       "  Tahun Lulus     Gaji TOEFL  \n",
       "1        2016  2000000   390  \n",
       "2        2016  2000000   413  \n",
       "3        2016  2000000   400  \n",
       "4        2016  2000000   396  \n",
       "5        2016  2000000   460  \n",
       "6        2016  1200000   403  \n",
       "7        2016  2000000   450  \n",
       "8        2016  1500000   423  "
      ]
     },
     "execution_count": 3,
     "metadata": {},
     "output_type": "execute_result"
    }
   ],
   "source": [
    "d = df[1:9][[1, 2, 3, 4, 5, 6, 7, 8]]\n",
    "d.columns = ['NIM', 'TTL', 'IPK', 'Masa Tunggu', 'Tahun Masuk', 'Tahun Lulus', 'Gaji', 'TOEFL']\n",
    "d\n",
    "\n"
   ]
  },
  {
   "cell_type": "markdown",
   "id": "b1319c9b",
   "metadata": {},
   "source": [
    "## checking datatipe pada kolom"
   ]
  },
  {
   "cell_type": "code",
   "execution_count": 11,
   "id": "c3a832da",
   "metadata": {},
   "outputs": [
    {
     "data": {
      "application/vnd.microsoft.datawrangler.viewer.v0+json": {
       "columns": [
        {
         "name": "index",
         "rawType": "object",
         "type": "string"
        },
        {
         "name": "0",
         "rawType": "object",
         "type": "unknown"
        }
       ],
       "ref": "7f38a0e2-f830-4c7a-a6d7-4023e3f3bb43",
       "rows": [
        [
         "No",
         "object"
        ],
        [
         "NIM",
         "object"
        ],
        [
         "TTL",
         "object"
        ],
        [
         "IPK",
         "float64"
        ],
        [
         "Masa Tunggu",
         "object"
        ],
        [
         "Tahun Masuk",
         "object"
        ],
        [
         "Tahun Lulus",
         "object"
        ],
        [
         "Gaji",
         "float64"
        ],
        [
         "TOEFL",
         "object"
        ],
        [
         "Masa Studi",
         "object"
        ],
        [
         "Umur",
         "object"
        ],
        [
         "Tahun Lahir",
         "object"
        ],
        [
         "MasaStudi",
         "float64"
        ]
       ],
       "shape": {
        "columns": 1,
        "rows": 13
       }
      },
      "text/plain": [
       "0\n",
       "No              object\n",
       "NIM             object\n",
       "TTL             object\n",
       "IPK            float64\n",
       "Masa Tunggu     object\n",
       "Tahun Masuk     object\n",
       "Tahun Lulus     object\n",
       "Gaji           float64\n",
       "TOEFL           object\n",
       "Masa Studi      object\n",
       "Umur            object\n",
       "Tahun Lahir     object\n",
       "MasaStudi      float64\n",
       "dtype: object"
      ]
     },
     "execution_count": 11,
     "metadata": {},
     "output_type": "execute_result"
    }
   ],
   "source": [
    "df.dtypes"
   ]
  },
  {
   "cell_type": "markdown",
   "id": "90993563",
   "metadata": {},
   "source": [
    "## formating data"
   ]
  },
  {
   "cell_type": "code",
   "execution_count": 5,
   "id": "143eb816",
   "metadata": {},
   "outputs": [
    {
     "data": {
      "application/vnd.microsoft.datawrangler.viewer.v0+json": {
       "columns": [
        {
         "name": "index",
         "rawType": "int64",
         "type": "integer"
        },
        {
         "name": "No",
         "rawType": "object",
         "type": "unknown"
        },
        {
         "name": "NIM",
         "rawType": "object",
         "type": "unknown"
        },
        {
         "name": "TTL",
         "rawType": "object",
         "type": "string"
        },
        {
         "name": "IPK",
         "rawType": "float64",
         "type": "float"
        },
        {
         "name": "Masa Tunggu",
         "rawType": "object",
         "type": "unknown"
        },
        {
         "name": "Tahun Masuk",
         "rawType": "object",
         "type": "unknown"
        },
        {
         "name": "Tahun Lulus",
         "rawType": "object",
         "type": "unknown"
        },
        {
         "name": "Gaji",
         "rawType": "float64",
         "type": "float"
        },
        {
         "name": "TOEFL",
         "rawType": "object",
         "type": "unknown"
        },
        {
         "name": "Masa Studi",
         "rawType": "object",
         "type": "unknown"
        },
        {
         "name": "Umur",
         "rawType": "object",
         "type": "unknown"
        },
        {
         "name": "Tahun Lahir",
         "rawType": "object",
         "type": "string"
        },
        {
         "name": "MasaStudi",
         "rawType": "float64",
         "type": "float"
        }
       ],
       "ref": "e30eb3a3-9f6a-4d49-b8fc-9d8bdb77c15c",
       "rows": [
        [
         "1",
         "1",
         "9018263",
         "Tapuih, 4 November 1989",
         "2.13",
         "2.4",
         "2009",
         "2016",
         "2000000.0",
         "390",
         "7",
         "36",
         "1989",
         "7.0"
        ],
        [
         "2",
         "2",
         "9018269",
         "Koto Anau, 19 Desember 1990",
         "2.75",
         "2.4",
         "2009",
         "2016",
         "2000000.0",
         "413",
         "7",
         "35",
         "1990",
         "7.0"
        ],
        [
         "3",
         "3",
         "9020026",
         "Lampung, 27 Maret 1992",
         "3.24",
         "2.4",
         "2009",
         "2016",
         "2000000.0",
         "400",
         "7",
         "33",
         "1992",
         "7.0"
        ],
        [
         "4",
         "4",
         "12018060",
         "Padang, 23 Maret 1994",
         "3.37",
         "2.4",
         "2012",
         "2016",
         "2000000.0",
         "396",
         "4",
         "31",
         "1994",
         "4.0"
        ],
        [
         "5",
         "5",
         "11018022",
         "Jakarta, 22 Juni 1993",
         "3.2",
         "2.4",
         "2011",
         "2016",
         "2000000.0",
         "460",
         "5",
         "32",
         "1993",
         "5.0"
        ],
        [
         "6",
         "6",
         "9018212",
         "Pekanbaru, 3 Juni 1991",
         "3.24",
         "0",
         "2009",
         "2016",
         "1200000.0",
         "403",
         "7",
         "34",
         "1991",
         "7.0"
        ],
        [
         "7",
         "7",
         "9018301",
         "Purbalingga, 08 Oktober 1991",
         "3.06",
         "2.4",
         "2009",
         "2016",
         "2000000.0",
         "450",
         "7",
         "34",
         "1991",
         "7.0"
        ],
        [
         "8",
         "8",
         "12022020",
         "Bukittinggi, 29 Maret 1992",
         "3.47",
         "2.4",
         "2012",
         "2016",
         "1500000.0",
         "423",
         "4",
         "33",
         "1992",
         "4.0"
        ]
       ],
       "shape": {
        "columns": 13,
        "rows": 8
       }
      },
      "text/html": [
       "<div>\n",
       "<style scoped>\n",
       "    .dataframe tbody tr th:only-of-type {\n",
       "        vertical-align: middle;\n",
       "    }\n",
       "\n",
       "    .dataframe tbody tr th {\n",
       "        vertical-align: top;\n",
       "    }\n",
       "\n",
       "    .dataframe thead th {\n",
       "        text-align: right;\n",
       "    }\n",
       "</style>\n",
       "<table border=\"1\" class=\"dataframe\">\n",
       "  <thead>\n",
       "    <tr style=\"text-align: right;\">\n",
       "      <th></th>\n",
       "      <th>No</th>\n",
       "      <th>NIM</th>\n",
       "      <th>TTL</th>\n",
       "      <th>IPK</th>\n",
       "      <th>Masa Tunggu</th>\n",
       "      <th>Tahun Masuk</th>\n",
       "      <th>Tahun Lulus</th>\n",
       "      <th>Gaji</th>\n",
       "      <th>TOEFL</th>\n",
       "      <th>Masa Studi</th>\n",
       "      <th>Umur</th>\n",
       "      <th>Tahun Lahir</th>\n",
       "      <th>MasaStudi</th>\n",
       "    </tr>\n",
       "  </thead>\n",
       "  <tbody>\n",
       "    <tr>\n",
       "      <th>1</th>\n",
       "      <td>1</td>\n",
       "      <td>9018263</td>\n",
       "      <td>Tapuih, 4 November 1989</td>\n",
       "      <td>2.13</td>\n",
       "      <td>2.4</td>\n",
       "      <td>2009</td>\n",
       "      <td>2016</td>\n",
       "      <td>2000000.0</td>\n",
       "      <td>390</td>\n",
       "      <td>7</td>\n",
       "      <td>36</td>\n",
       "      <td>1989</td>\n",
       "      <td>7.0</td>\n",
       "    </tr>\n",
       "    <tr>\n",
       "      <th>2</th>\n",
       "      <td>2</td>\n",
       "      <td>9018269</td>\n",
       "      <td>Koto Anau, 19 Desember 1990</td>\n",
       "      <td>2.75</td>\n",
       "      <td>2.4</td>\n",
       "      <td>2009</td>\n",
       "      <td>2016</td>\n",
       "      <td>2000000.0</td>\n",
       "      <td>413</td>\n",
       "      <td>7</td>\n",
       "      <td>35</td>\n",
       "      <td>1990</td>\n",
       "      <td>7.0</td>\n",
       "    </tr>\n",
       "    <tr>\n",
       "      <th>3</th>\n",
       "      <td>3</td>\n",
       "      <td>9020026</td>\n",
       "      <td>Lampung, 27 Maret 1992</td>\n",
       "      <td>3.24</td>\n",
       "      <td>2.4</td>\n",
       "      <td>2009</td>\n",
       "      <td>2016</td>\n",
       "      <td>2000000.0</td>\n",
       "      <td>400</td>\n",
       "      <td>7</td>\n",
       "      <td>33</td>\n",
       "      <td>1992</td>\n",
       "      <td>7.0</td>\n",
       "    </tr>\n",
       "    <tr>\n",
       "      <th>4</th>\n",
       "      <td>4</td>\n",
       "      <td>12018060</td>\n",
       "      <td>Padang, 23 Maret 1994</td>\n",
       "      <td>3.37</td>\n",
       "      <td>2.4</td>\n",
       "      <td>2012</td>\n",
       "      <td>2016</td>\n",
       "      <td>2000000.0</td>\n",
       "      <td>396</td>\n",
       "      <td>4</td>\n",
       "      <td>31</td>\n",
       "      <td>1994</td>\n",
       "      <td>4.0</td>\n",
       "    </tr>\n",
       "    <tr>\n",
       "      <th>5</th>\n",
       "      <td>5</td>\n",
       "      <td>11018022</td>\n",
       "      <td>Jakarta, 22 Juni 1993</td>\n",
       "      <td>3.20</td>\n",
       "      <td>2.4</td>\n",
       "      <td>2011</td>\n",
       "      <td>2016</td>\n",
       "      <td>2000000.0</td>\n",
       "      <td>460</td>\n",
       "      <td>5</td>\n",
       "      <td>32</td>\n",
       "      <td>1993</td>\n",
       "      <td>5.0</td>\n",
       "    </tr>\n",
       "    <tr>\n",
       "      <th>6</th>\n",
       "      <td>6</td>\n",
       "      <td>9018212</td>\n",
       "      <td>Pekanbaru, 3 Juni 1991</td>\n",
       "      <td>3.24</td>\n",
       "      <td>0</td>\n",
       "      <td>2009</td>\n",
       "      <td>2016</td>\n",
       "      <td>1200000.0</td>\n",
       "      <td>403</td>\n",
       "      <td>7</td>\n",
       "      <td>34</td>\n",
       "      <td>1991</td>\n",
       "      <td>7.0</td>\n",
       "    </tr>\n",
       "    <tr>\n",
       "      <th>7</th>\n",
       "      <td>7</td>\n",
       "      <td>9018301</td>\n",
       "      <td>Purbalingga, 08 Oktober 1991</td>\n",
       "      <td>3.06</td>\n",
       "      <td>2.4</td>\n",
       "      <td>2009</td>\n",
       "      <td>2016</td>\n",
       "      <td>2000000.0</td>\n",
       "      <td>450</td>\n",
       "      <td>7</td>\n",
       "      <td>34</td>\n",
       "      <td>1991</td>\n",
       "      <td>7.0</td>\n",
       "    </tr>\n",
       "    <tr>\n",
       "      <th>8</th>\n",
       "      <td>8</td>\n",
       "      <td>12022020</td>\n",
       "      <td>Bukittinggi, 29 Maret 1992</td>\n",
       "      <td>3.47</td>\n",
       "      <td>2.4</td>\n",
       "      <td>2012</td>\n",
       "      <td>2016</td>\n",
       "      <td>1500000.0</td>\n",
       "      <td>423</td>\n",
       "      <td>4</td>\n",
       "      <td>33</td>\n",
       "      <td>1992</td>\n",
       "      <td>4.0</td>\n",
       "    </tr>\n",
       "  </tbody>\n",
       "</table>\n",
       "</div>"
      ],
      "text/plain": [
       "0 No       NIM                           TTL   IPK Masa Tunggu Tahun Masuk  \\\n",
       "1  1   9018263       Tapuih, 4 November 1989  2.13         2.4        2009   \n",
       "2  2   9018269   Koto Anau, 19 Desember 1990  2.75         2.4        2009   \n",
       "3  3   9020026        Lampung, 27 Maret 1992  3.24         2.4        2009   \n",
       "4  4  12018060         Padang, 23 Maret 1994  3.37         2.4        2012   \n",
       "5  5  11018022         Jakarta, 22 Juni 1993  3.20         2.4        2011   \n",
       "6  6   9018212        Pekanbaru, 3 Juni 1991  3.24           0        2009   \n",
       "7  7   9018301  Purbalingga, 08 Oktober 1991  3.06         2.4        2009   \n",
       "8  8  12022020    Bukittinggi, 29 Maret 1992  3.47         2.4        2012   \n",
       "\n",
       "0 Tahun Lulus       Gaji TOEFL Masa Studi Umur Tahun Lahir  MasaStudi  \n",
       "1        2016  2000000.0   390          7   36        1989        7.0  \n",
       "2        2016  2000000.0   413          7   35        1990        7.0  \n",
       "3        2016  2000000.0   400          7   33        1992        7.0  \n",
       "4        2016  2000000.0   396          4   31        1994        4.0  \n",
       "5        2016  2000000.0   460          5   32        1993        5.0  \n",
       "6        2016  1200000.0   403          7   34        1991        7.0  \n",
       "7        2016  2000000.0   450          7   34        1991        7.0  \n",
       "8        2016  1500000.0   423          4   33        1992        4.0  "
      ]
     },
     "execution_count": 5,
     "metadata": {},
     "output_type": "execute_result"
    }
   ],
   "source": [
    "from datetime import datetime\n",
    "now = datetime.now()\n",
    "\n",
    "df.columns = df.iloc[0]\n",
    "df = df.drop(0)\n",
    "\n",
    "now.year\n",
    "for index, row in df.iterrows():\n",
    "    df.loc[index, 'Tahun Lahir'] = row['TTL'][-4:]\n",
    "for index, row in df.iterrows():\n",
    "    df.loc[index, 'Umur'] = now.year - int(row['Tahun Lahir'])\n",
    "for index, row in df.iterrows():\n",
    "    df.loc[index, 'MasaStudi'] = row['Tahun Lulus'] - row['Tahun Masuk']\n",
    "df['IPK'] = df['IPK'].apply(str)\n",
    "df['IPK'] = df['IPK'].str.replace(',', '.').apply(float)\n",
    "df['Gaji'] = df['Gaji'].apply(float)\n",
    "df"
   ]
  },
  {
   "cell_type": "markdown",
   "id": "374f0658",
   "metadata": {},
   "source": [
    "## check formatting lagi"
   ]
  },
  {
   "cell_type": "code",
   "execution_count": 6,
   "id": "ac6981fb",
   "metadata": {},
   "outputs": [
    {
     "name": "stdout",
     "output_type": "stream",
     "text": [
      "0\n",
      "No              object\n",
      "NIM             object\n",
      "TTL             object\n",
      "IPK            float64\n",
      "Masa Tunggu     object\n",
      "Tahun Masuk     object\n",
      "Tahun Lulus     object\n",
      "Gaji           float64\n",
      "TOEFL           object\n",
      "Masa Studi      object\n",
      "Umur            object\n",
      "Tahun Lahir     object\n",
      "MasaStudi      float64\n",
      "dtype: object\n"
     ]
    }
   ],
   "source": [
    "print(df.dtypes)"
   ]
  },
  {
   "cell_type": "markdown",
   "id": "f923e683",
   "metadata": {},
   "source": [
    "## ubah index dataframe"
   ]
  },
  {
   "cell_type": "code",
   "execution_count": 7,
   "id": "392dd42a",
   "metadata": {},
   "outputs": [
    {
     "data": {
      "application/vnd.microsoft.datawrangler.viewer.v0+json": {
       "columns": [
        {
         "name": "index",
         "rawType": "int64",
         "type": "integer"
        },
        {
         "name": "NIM",
         "rawType": "object",
         "type": "unknown"
        },
        {
         "name": "IPK",
         "rawType": "float64",
         "type": "float"
        },
        {
         "name": "Umur",
         "rawType": "object",
         "type": "unknown"
        },
        {
         "name": "MasaStudi",
         "rawType": "float64",
         "type": "float"
        },
        {
         "name": "TOEFL",
         "rawType": "object",
         "type": "unknown"
        },
        {
         "name": "Masa Tunggu",
         "rawType": "object",
         "type": "unknown"
        }
       ],
       "ref": "ffe77070-c3dd-43e0-af45-d4e75780ea23",
       "rows": [
        [
         "0",
         "9018263",
         "2.13",
         "36",
         "7.0",
         "390",
         "2.4"
        ],
        [
         "1",
         "9018269",
         "2.75",
         "35",
         "7.0",
         "413",
         "2.4"
        ],
        [
         "2",
         "9020026",
         "3.24",
         "33",
         "7.0",
         "400",
         "2.4"
        ],
        [
         "3",
         "12018060",
         "3.37",
         "31",
         "4.0",
         "396",
         "2.4"
        ],
        [
         "4",
         "11018022",
         "3.2",
         "32",
         "5.0",
         "460",
         "2.4"
        ],
        [
         "5",
         "9018212",
         "3.24",
         "34",
         "7.0",
         "403",
         "0"
        ],
        [
         "6",
         "9018301",
         "3.06",
         "34",
         "7.0",
         "450",
         "2.4"
        ],
        [
         "7",
         "12022020",
         "3.47",
         "33",
         "4.0",
         "423",
         "2.4"
        ]
       ],
       "shape": {
        "columns": 6,
        "rows": 8
       }
      },
      "text/html": [
       "<div>\n",
       "<style scoped>\n",
       "    .dataframe tbody tr th:only-of-type {\n",
       "        vertical-align: middle;\n",
       "    }\n",
       "\n",
       "    .dataframe tbody tr th {\n",
       "        vertical-align: top;\n",
       "    }\n",
       "\n",
       "    .dataframe thead th {\n",
       "        text-align: right;\n",
       "    }\n",
       "</style>\n",
       "<table border=\"1\" class=\"dataframe\">\n",
       "  <thead>\n",
       "    <tr style=\"text-align: right;\">\n",
       "      <th></th>\n",
       "      <th>NIM</th>\n",
       "      <th>IPK</th>\n",
       "      <th>Umur</th>\n",
       "      <th>MasaStudi</th>\n",
       "      <th>TOEFL</th>\n",
       "      <th>Masa Tunggu</th>\n",
       "    </tr>\n",
       "  </thead>\n",
       "  <tbody>\n",
       "    <tr>\n",
       "      <th>0</th>\n",
       "      <td>9018263</td>\n",
       "      <td>2.13</td>\n",
       "      <td>36</td>\n",
       "      <td>7.0</td>\n",
       "      <td>390</td>\n",
       "      <td>2.4</td>\n",
       "    </tr>\n",
       "    <tr>\n",
       "      <th>1</th>\n",
       "      <td>9018269</td>\n",
       "      <td>2.75</td>\n",
       "      <td>35</td>\n",
       "      <td>7.0</td>\n",
       "      <td>413</td>\n",
       "      <td>2.4</td>\n",
       "    </tr>\n",
       "    <tr>\n",
       "      <th>2</th>\n",
       "      <td>9020026</td>\n",
       "      <td>3.24</td>\n",
       "      <td>33</td>\n",
       "      <td>7.0</td>\n",
       "      <td>400</td>\n",
       "      <td>2.4</td>\n",
       "    </tr>\n",
       "    <tr>\n",
       "      <th>3</th>\n",
       "      <td>12018060</td>\n",
       "      <td>3.37</td>\n",
       "      <td>31</td>\n",
       "      <td>4.0</td>\n",
       "      <td>396</td>\n",
       "      <td>2.4</td>\n",
       "    </tr>\n",
       "    <tr>\n",
       "      <th>4</th>\n",
       "      <td>11018022</td>\n",
       "      <td>3.20</td>\n",
       "      <td>32</td>\n",
       "      <td>5.0</td>\n",
       "      <td>460</td>\n",
       "      <td>2.4</td>\n",
       "    </tr>\n",
       "    <tr>\n",
       "      <th>5</th>\n",
       "      <td>9018212</td>\n",
       "      <td>3.24</td>\n",
       "      <td>34</td>\n",
       "      <td>7.0</td>\n",
       "      <td>403</td>\n",
       "      <td>0</td>\n",
       "    </tr>\n",
       "    <tr>\n",
       "      <th>6</th>\n",
       "      <td>9018301</td>\n",
       "      <td>3.06</td>\n",
       "      <td>34</td>\n",
       "      <td>7.0</td>\n",
       "      <td>450</td>\n",
       "      <td>2.4</td>\n",
       "    </tr>\n",
       "    <tr>\n",
       "      <th>7</th>\n",
       "      <td>12022020</td>\n",
       "      <td>3.47</td>\n",
       "      <td>33</td>\n",
       "      <td>4.0</td>\n",
       "      <td>423</td>\n",
       "      <td>2.4</td>\n",
       "    </tr>\n",
       "  </tbody>\n",
       "</table>\n",
       "</div>"
      ],
      "text/plain": [
       "0       NIM   IPK Umur  MasaStudi TOEFL Masa Tunggu\n",
       "0   9018263  2.13   36        7.0   390         2.4\n",
       "1   9018269  2.75   35        7.0   413         2.4\n",
       "2   9020026  3.24   33        7.0   400         2.4\n",
       "3  12018060  3.37   31        4.0   396         2.4\n",
       "4  11018022  3.20   32        5.0   460         2.4\n",
       "5   9018212  3.24   34        7.0   403           0\n",
       "6   9018301  3.06   34        7.0   450         2.4\n",
       "7  12022020  3.47   33        4.0   423         2.4"
      ]
     },
     "execution_count": 7,
     "metadata": {},
     "output_type": "execute_result"
    }
   ],
   "source": [
    "dTable = df[['NIM', 'IPK', 'Umur', 'MasaStudi', 'TOEFL', 'Masa Tunggu']].reset_index(drop=True)\n",
    "dTable"
   ]
  },
  {
   "cell_type": "markdown",
   "id": "621ac3bf",
   "metadata": {},
   "source": [
    "## ambil data IPK dan MasaStudi untuk cluster"
   ]
  },
  {
   "cell_type": "code",
   "execution_count": 8,
   "id": "ba130a71",
   "metadata": {},
   "outputs": [
    {
     "name": "stdout",
     "output_type": "stream",
     "text": [
      "0   IPK  MasaStudi\n",
      "0  2.13        7.0\n",
      "1  2.75        7.0\n",
      "2  3.24        7.0\n",
      "3  3.37        4.0\n",
      "4  3.20        5.0\n",
      "5  3.24        7.0\n",
      "6  3.06        7.0\n",
      "7  3.47        4.0\n"
     ]
    }
   ],
   "source": [
    "x = dTable[['IPK', 'MasaStudi']]\n",
    "print(x)"
   ]
  },
  {
   "cell_type": "markdown",
   "id": "2cc773c9",
   "metadata": {},
   "source": [
    "## proses clustering"
   ]
  },
  {
   "cell_type": "code",
   "execution_count": 10,
   "id": "3198ccfd",
   "metadata": {},
   "outputs": [
    {
     "name": "stdout",
     "output_type": "stream",
     "text": [
      "coordinate 0 0\n",
      "IPK          2.13\n",
      "MasaStudi    7.00\n",
      "Name: 0, dtype: float64 Labels 2\n",
      "coordinate 1 0\n",
      "IPK          2.75\n",
      "MasaStudi    7.00\n",
      "Name: 1, dtype: float64 Labels 0\n",
      "coordinate 2 0\n",
      "IPK          3.24\n",
      "MasaStudi    7.00\n",
      "Name: 2, dtype: float64 Labels 0\n",
      "coordinate 3 0\n",
      "IPK          3.37\n",
      "MasaStudi    4.00\n",
      "Name: 3, dtype: float64 Labels 1\n",
      "coordinate 4 0\n",
      "IPK          3.2\n",
      "MasaStudi    5.0\n",
      "Name: 4, dtype: float64 Labels 1\n",
      "coordinate 5 0\n",
      "IPK          3.24\n",
      "MasaStudi    7.00\n",
      "Name: 5, dtype: float64 Labels 0\n",
      "coordinate 6 0\n",
      "IPK          3.06\n",
      "MasaStudi    7.00\n",
      "Name: 6, dtype: float64 Labels 0\n",
      "coordinate 7 0\n",
      "IPK          3.47\n",
      "MasaStudi    4.00\n",
      "Name: 7, dtype: float64 Labels 1\n"
     ]
    },
    {
     "data": {
      "image/png": "[encoded data removed]",
      "text/plain": [
       "<Figure size 1500x1000 with 1 Axes>"
      ]
     },
     "metadata": {},
     "output_type": "display_data"
    }
   ],
   "source": [
    "kmeans = KMeans(n_clusters=3)\n",
    "kmeans.fit(x)\n",
    "centroids = kmeans.cluster_centers_\n",
    "plt.figure(figsize=(15, 10))\n",
    "colors = ['ro', 'go', 'bo']\n",
    "for i in range(len(x)):\n",
    "    print('coordinate %s'%i, x.iloc[i], 'Labels %s'%kmeans.labels_[i])\n",
    "    plt.plot(x.iloc[i]['IPK'], x.iloc[i]['MasaStudi'], colors[kmeans.labels_[i]], markersize=10)\n",
    "    list_cluster = df[(df['IPK'] == x.iloc[i]['IPK']) & (df['MasaStudi'] == x.iloc[i]['MasaStudi'])].index.tolist()\n",
    "    plt.text(df.iloc[i]['IPK'], df.iloc[i]['MasaStudi'], '%s'%(list_cluster))\n",
    "plt.scatter(centroids[:, 0], centroids[:, 1], marker='x', s=50, linewidth=5, zorder=10)\n",
    "plt.show()"
   ]
  }
 ],
 "metadata": {
  "kernelspec": {
   "display_name": "Python 3 (ipykernel)",
   "language": "python",
   "name": "python3"
  }
 },
 "nbformat": 4,
 "nbformat_minor": 5
}
