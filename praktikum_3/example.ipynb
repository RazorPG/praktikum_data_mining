{
 "cells": [
  {
   "cell_type": "markdown",
   "id": "af7fc42e",
   "metadata": {},
   "source": [
    "## import library yang digunakan"
   ]
  },
  {
   "cell_type": "code",
   "execution_count": 33,
   "id": "27b86bb5",
   "metadata": {},
   "outputs": [],
   "source": [
    "import pandas as pd\n",
    "from openpyxl import load_workbook"
   ]
  },
  {
   "cell_type": "markdown",
   "id": "297e41c3",
   "metadata": {},
   "source": [
    "## inisisasi file excel"
   ]
  },
  {
   "cell_type": "code",
   "execution_count": 34,
   "id": "5ebca5ee",
   "metadata": {},
   "outputs": [
    {
     "name": "stderr",
     "output_type": "stream",
     "text": [
      "<>:1: SyntaxWarning: invalid escape sequence '\\S'\n",
      "<>:1: SyntaxWarning: invalid escape sequence '\\S'\n",
      "C:\\Users\\asus\\AppData\\Local\\Temp\\ipykernel_9968\\4030817579.py:1: SyntaxWarning: invalid escape sequence '\\S'\n",
      "  wb = load_workbook('D:\\Studied_at_UNP\\SEMESTER-5\\praktikum_data_mining\\praktikum_3\\Data Alumni.xlsx')\n"
     ]
    }
   ],
   "source": [
    "wb = load_workbook('D:\\Studied_at_UNP\\SEMESTER-5\\praktikum_data_mining\\praktikum_3\\Data Alumni.xlsx')\n",
    "sheet_range = wb['Sheet1']\n",
    "df = pd.DataFrame(sheet_range.values)"
   ]
  },
  {
   "cell_type": "markdown",
   "id": "8b36f136",
   "metadata": {},
   "source": [
    "## mengubah bentuk tabel"
   ]
  },
  {
   "cell_type": "code",
   "execution_count": 35,
   "id": "80489ba6",
   "metadata": {},
   "outputs": [
    {
     "data": {
      "application/vnd.microsoft.datawrangler.viewer.v0+json": {
       "columns": [
        {
         "name": "index",
         "rawType": "int64",
         "type": "integer"
        },
        {
         "name": "No",
         "rawType": "object",
         "type": "unknown"
        },
        {
         "name": "NIM",
         "rawType": "object",
         "type": "unknown"
        },
        {
         "name": "TTL",
         "rawType": "object",
         "type": "string"
        },
        {
         "name": "IPK",
         "rawType": "object",
         "type": "unknown"
        },
        {
         "name": "Masa Tunggu",
         "rawType": "object",
         "type": "unknown"
        },
        {
         "name": "Tahun Masuk",
         "rawType": "object",
         "type": "unknown"
        },
        {
         "name": "Tahun Lulus",
         "rawType": "object",
         "type": "unknown"
        },
        {
         "name": "Gaji",
         "rawType": "object",
         "type": "unknown"
        },
        {
         "name": "TOEFL",
         "rawType": "object",
         "type": "unknown"
        },
        {
         "name": "Masa Studi",
         "rawType": "object",
         "type": "unknown"
        },
        {
         "name": "Umur",
         "rawType": "object",
         "type": "unknown"
        }
       ],
       "ref": "46b20ddc-8d70-4003-9e73-219666eca8a9",
       "rows": [
        [
         "1",
         "1",
         "9018263",
         "Tapuih, 4 November 1989",
         "2.13",
         "2.4",
         "2009",
         "2016",
         "2000000",
         "390",
         "7",
         "34"
        ],
        [
         "2",
         "2",
         "9018269",
         "Koto Anau, 19 Desember 1990",
         "2.75",
         "2.4",
         "2009",
         "2016",
         "2000000",
         "413",
         "7",
         "33"
        ],
        [
         "3",
         "3",
         "9020026",
         "Lampung, 27 Maret 1992",
         "3.24",
         "2.4",
         "2009",
         "2016",
         "2000000",
         "400",
         "7",
         "31"
        ],
        [
         "4",
         "4",
         "12018060",
         "Padang, 23 Maret 1994",
         "3.37",
         "2.4",
         "2012",
         "2016",
         "2000000",
         "396",
         "4",
         "29"
        ],
        [
         "5",
         "5",
         "11018022",
         "Jakarta, 22 Juni 1993",
         "3.2",
         "2.4",
         "2011",
         "2016",
         "2000000",
         "460",
         "5",
         "30"
        ],
        [
         "6",
         "6",
         "9018212",
         "Pekanbaru, 3 Juni 1991",
         "3.24",
         "0",
         "2009",
         "2016",
         "1200000",
         "403",
         "7",
         "32"
        ],
        [
         "7",
         "7",
         "9018301",
         "Purbalingga, 08 Oktober 1991",
         "3.06",
         "2.4",
         "2009",
         "2016",
         "2000000",
         "450",
         "7",
         "32"
        ],
        [
         "8",
         "8",
         "12022020",
         "Bukittinggi, 29 Maret 1992",
         "3.47",
         "2.4",
         "2012",
         "2016",
         "1500000",
         "423",
         "4",
         "31"
        ]
       ],
       "shape": {
        "columns": 11,
        "rows": 8
       }
      },
      "text/html": [
       "<div>\n",
       "<style scoped>\n",
       "    .dataframe tbody tr th:only-of-type {\n",
       "        vertical-align: middle;\n",
       "    }\n",
       "\n",
       "    .dataframe tbody tr th {\n",
       "        vertical-align: top;\n",
       "    }\n",
       "\n",
       "    .dataframe thead th {\n",
       "        text-align: right;\n",
       "    }\n",
       "</style>\n",
       "<table border=\"1\" class=\"dataframe\">\n",
       "  <thead>\n",
       "    <tr style=\"text-align: right;\">\n",
       "      <th></th>\n",
       "      <th>No</th>\n",
       "      <th>NIM</th>\n",
       "      <th>TTL</th>\n",
       "      <th>IPK</th>\n",
       "      <th>Masa Tunggu</th>\n",
       "      <th>Tahun Masuk</th>\n",
       "      <th>Tahun Lulus</th>\n",
       "      <th>Gaji</th>\n",
       "      <th>TOEFL</th>\n",
       "      <th>Masa Studi</th>\n",
       "      <th>Umur</th>\n",
       "    </tr>\n",
       "  </thead>\n",
       "  <tbody>\n",
       "    <tr>\n",
       "      <th>1</th>\n",
       "      <td>1</td>\n",
       "      <td>9018263</td>\n",
       "      <td>Tapuih, 4 November 1989</td>\n",
       "      <td>2.13</td>\n",
       "      <td>2.4</td>\n",
       "      <td>2009</td>\n",
       "      <td>2016</td>\n",
       "      <td>2000000</td>\n",
       "      <td>390</td>\n",
       "      <td>7</td>\n",
       "      <td>34</td>\n",
       "    </tr>\n",
       "    <tr>\n",
       "      <th>2</th>\n",
       "      <td>2</td>\n",
       "      <td>9018269</td>\n",
       "      <td>Koto Anau, 19 Desember 1990</td>\n",
       "      <td>2.75</td>\n",
       "      <td>2.4</td>\n",
       "      <td>2009</td>\n",
       "      <td>2016</td>\n",
       "      <td>2000000</td>\n",
       "      <td>413</td>\n",
       "      <td>7</td>\n",
       "      <td>33</td>\n",
       "    </tr>\n",
       "    <tr>\n",
       "      <th>3</th>\n",
       "      <td>3</td>\n",
       "      <td>9020026</td>\n",
       "      <td>Lampung, 27 Maret 1992</td>\n",
       "      <td>3.24</td>\n",
       "      <td>2.4</td>\n",
       "      <td>2009</td>\n",
       "      <td>2016</td>\n",
       "      <td>2000000</td>\n",
       "      <td>400</td>\n",
       "      <td>7</td>\n",
       "      <td>31</td>\n",
       "    </tr>\n",
       "    <tr>\n",
       "      <th>4</th>\n",
       "      <td>4</td>\n",
       "      <td>12018060</td>\n",
       "      <td>Padang, 23 Maret 1994</td>\n",
       "      <td>3.37</td>\n",
       "      <td>2.4</td>\n",
       "      <td>2012</td>\n",
       "      <td>2016</td>\n",
       "      <td>2000000</td>\n",
       "      <td>396</td>\n",
       "      <td>4</td>\n",
       "      <td>29</td>\n",
       "    </tr>\n",
       "    <tr>\n",
       "      <th>5</th>\n",
       "      <td>5</td>\n",
       "      <td>11018022</td>\n",
       "      <td>Jakarta, 22 Juni 1993</td>\n",
       "      <td>3.2</td>\n",
       "      <td>2.4</td>\n",
       "      <td>2011</td>\n",
       "      <td>2016</td>\n",
       "      <td>2000000</td>\n",
       "      <td>460</td>\n",
       "      <td>5</td>\n",
       "      <td>30</td>\n",
       "    </tr>\n",
       "    <tr>\n",
       "      <th>6</th>\n",
       "      <td>6</td>\n",
       "      <td>9018212</td>\n",
       "      <td>Pekanbaru, 3 Juni 1991</td>\n",
       "      <td>3.24</td>\n",
       "      <td>0</td>\n",
       "      <td>2009</td>\n",
       "      <td>2016</td>\n",
       "      <td>1200000</td>\n",
       "      <td>403</td>\n",
       "      <td>7</td>\n",
       "      <td>32</td>\n",
       "    </tr>\n",
       "    <tr>\n",
       "      <th>7</th>\n",
       "      <td>7</td>\n",
       "      <td>9018301</td>\n",
       "      <td>Purbalingga, 08 Oktober 1991</td>\n",
       "      <td>3.06</td>\n",
       "      <td>2.4</td>\n",
       "      <td>2009</td>\n",
       "      <td>2016</td>\n",
       "      <td>2000000</td>\n",
       "      <td>450</td>\n",
       "      <td>7</td>\n",
       "      <td>32</td>\n",
       "    </tr>\n",
       "    <tr>\n",
       "      <th>8</th>\n",
       "      <td>8</td>\n",
       "      <td>12022020</td>\n",
       "      <td>Bukittinggi, 29 Maret 1992</td>\n",
       "      <td>3.47</td>\n",
       "      <td>2.4</td>\n",
       "      <td>2012</td>\n",
       "      <td>2016</td>\n",
       "      <td>1500000</td>\n",
       "      <td>423</td>\n",
       "      <td>4</td>\n",
       "      <td>31</td>\n",
       "    </tr>\n",
       "  </tbody>\n",
       "</table>\n",
       "</div>"
      ],
      "text/plain": [
       "0 No       NIM                           TTL   IPK Masa Tunggu Tahun Masuk  \\\n",
       "1  1   9018263       Tapuih, 4 November 1989  2.13         2.4        2009   \n",
       "2  2   9018269   Koto Anau, 19 Desember 1990  2.75         2.4        2009   \n",
       "3  3   9020026        Lampung, 27 Maret 1992  3.24         2.4        2009   \n",
       "4  4  12018060         Padang, 23 Maret 1994  3.37         2.4        2012   \n",
       "5  5  11018022         Jakarta, 22 Juni 1993   3.2         2.4        2011   \n",
       "6  6   9018212        Pekanbaru, 3 Juni 1991  3.24           0        2009   \n",
       "7  7   9018301  Purbalingga, 08 Oktober 1991  3.06         2.4        2009   \n",
       "8  8  12022020    Bukittinggi, 29 Maret 1992  3.47         2.4        2012   \n",
       "\n",
       "0 Tahun Lulus     Gaji TOEFL Masa Studi Umur  \n",
       "1        2016  2000000   390          7   34  \n",
       "2        2016  2000000   413          7   33  \n",
       "3        2016  2000000   400          7   31  \n",
       "4        2016  2000000   396          4   29  \n",
       "5        2016  2000000   460          5   30  \n",
       "6        2016  1200000   403          7   32  \n",
       "7        2016  2000000   450          7   32  \n",
       "8        2016  1500000   423          4   31  "
      ]
     },
     "execution_count": 35,
     "metadata": {},
     "output_type": "execute_result"
    }
   ],
   "source": [
    "df.columns = df.iloc[0]\n",
    "df = df.drop(0)\n",
    "df"
   ]
  },
  {
   "cell_type": "markdown",
   "id": "1717bb9d",
   "metadata": {},
   "source": [
    "## transformasi data IPK"
   ]
  },
  {
   "cell_type": "code",
   "execution_count": 36,
   "id": "02ab12eb",
   "metadata": {},
   "outputs": [
    {
     "data": {
      "application/vnd.microsoft.datawrangler.viewer.v0+json": {
       "columns": [
        {
         "name": "index",
         "rawType": "int64",
         "type": "integer"
        },
        {
         "name": "No",
         "rawType": "object",
         "type": "unknown"
        },
        {
         "name": "NIM",
         "rawType": "object",
         "type": "unknown"
        },
        {
         "name": "TTL",
         "rawType": "object",
         "type": "string"
        },
        {
         "name": "IPK",
         "rawType": "float64",
         "type": "float"
        },
        {
         "name": "Masa Tunggu",
         "rawType": "object",
         "type": "unknown"
        },
        {
         "name": "Tahun Masuk",
         "rawType": "object",
         "type": "unknown"
        },
        {
         "name": "Tahun Lulus",
         "rawType": "object",
         "type": "unknown"
        },
        {
         "name": "Gaji",
         "rawType": "object",
         "type": "unknown"
        },
        {
         "name": "TOEFL",
         "rawType": "object",
         "type": "unknown"
        },
        {
         "name": "Masa Studi",
         "rawType": "object",
         "type": "unknown"
        },
        {
         "name": "Umur",
         "rawType": "object",
         "type": "unknown"
        }
       ],
       "ref": "b7498d5a-900e-46b6-a2d0-85ed7d8f1e82",
       "rows": [
        [
         "1",
         "1",
         "9018263",
         "Tapuih, 4 November 1989",
         "2.13",
         "2.4",
         "2009",
         "2016",
         "2000000",
         "390",
         "7",
         "34"
        ],
        [
         "2",
         "2",
         "9018269",
         "Koto Anau, 19 Desember 1990",
         "2.75",
         "2.4",
         "2009",
         "2016",
         "2000000",
         "413",
         "7",
         "33"
        ],
        [
         "3",
         "3",
         "9020026",
         "Lampung, 27 Maret 1992",
         "3.24",
         "2.4",
         "2009",
         "2016",
         "2000000",
         "400",
         "7",
         "31"
        ],
        [
         "4",
         "4",
         "12018060",
         "Padang, 23 Maret 1994",
         "3.37",
         "2.4",
         "2012",
         "2016",
         "2000000",
         "396",
         "4",
         "29"
        ],
        [
         "5",
         "5",
         "11018022",
         "Jakarta, 22 Juni 1993",
         "3.2",
         "2.4",
         "2011",
         "2016",
         "2000000",
         "460",
         "5",
         "30"
        ],
        [
         "6",
         "6",
         "9018212",
         "Pekanbaru, 3 Juni 1991",
         "3.24",
         "0",
         "2009",
         "2016",
         "1200000",
         "403",
         "7",
         "32"
        ],
        [
         "7",
         "7",
         "9018301",
         "Purbalingga, 08 Oktober 1991",
         "3.06",
         "2.4",
         "2009",
         "2016",
         "2000000",
         "450",
         "7",
         "32"
        ],
        [
         "8",
         "8",
         "12022020",
         "Bukittinggi, 29 Maret 1992",
         "3.47",
         "2.4",
         "2012",
         "2016",
         "1500000",
         "423",
         "4",
         "31"
        ]
       ],
       "shape": {
        "columns": 11,
        "rows": 8
       }
      },
      "text/html": [
       "<div>\n",
       "<style scoped>\n",
       "    .dataframe tbody tr th:only-of-type {\n",
       "        vertical-align: middle;\n",
       "    }\n",
       "\n",
       "    .dataframe tbody tr th {\n",
       "        vertical-align: top;\n",
       "    }\n",
       "\n",
       "    .dataframe thead th {\n",
       "        text-align: right;\n",
       "    }\n",
       "</style>\n",
       "<table border=\"1\" class=\"dataframe\">\n",
       "  <thead>\n",
       "    <tr style=\"text-align: right;\">\n",
       "      <th></th>\n",
       "      <th>No</th>\n",
       "      <th>NIM</th>\n",
       "      <th>TTL</th>\n",
       "      <th>IPK</th>\n",
       "      <th>Masa Tunggu</th>\n",
       "      <th>Tahun Masuk</th>\n",
       "      <th>Tahun Lulus</th>\n",
       "      <th>Gaji</th>\n",
       "      <th>TOEFL</th>\n",
       "      <th>Masa Studi</th>\n",
       "      <th>Umur</th>\n",
       "    </tr>\n",
       "  </thead>\n",
       "  <tbody>\n",
       "    <tr>\n",
       "      <th>1</th>\n",
       "      <td>1</td>\n",
       "      <td>9018263</td>\n",
       "      <td>Tapuih, 4 November 1989</td>\n",
       "      <td>2.13</td>\n",
       "      <td>2.4</td>\n",
       "      <td>2009</td>\n",
       "      <td>2016</td>\n",
       "      <td>2000000</td>\n",
       "      <td>390</td>\n",
       "      <td>7</td>\n",
       "      <td>34</td>\n",
       "    </tr>\n",
       "    <tr>\n",
       "      <th>2</th>\n",
       "      <td>2</td>\n",
       "      <td>9018269</td>\n",
       "      <td>Koto Anau, 19 Desember 1990</td>\n",
       "      <td>2.75</td>\n",
       "      <td>2.4</td>\n",
       "      <td>2009</td>\n",
       "      <td>2016</td>\n",
       "      <td>2000000</td>\n",
       "      <td>413</td>\n",
       "      <td>7</td>\n",
       "      <td>33</td>\n",
       "    </tr>\n",
       "    <tr>\n",
       "      <th>3</th>\n",
       "      <td>3</td>\n",
       "      <td>9020026</td>\n",
       "      <td>Lampung, 27 Maret 1992</td>\n",
       "      <td>3.24</td>\n",
       "      <td>2.4</td>\n",
       "      <td>2009</td>\n",
       "      <td>2016</td>\n",
       "      <td>2000000</td>\n",
       "      <td>400</td>\n",
       "      <td>7</td>\n",
       "      <td>31</td>\n",
       "    </tr>\n",
       "    <tr>\n",
       "      <th>4</th>\n",
       "      <td>4</td>\n",
       "      <td>12018060</td>\n",
       "      <td>Padang, 23 Maret 1994</td>\n",
       "      <td>3.37</td>\n",
       "      <td>2.4</td>\n",
       "      <td>2012</td>\n",
       "      <td>2016</td>\n",
       "      <td>2000000</td>\n",
       "      <td>396</td>\n",
       "      <td>4</td>\n",
       "      <td>29</td>\n",
       "    </tr>\n",
       "    <tr>\n",
       "      <th>5</th>\n",
       "      <td>5</td>\n",
       "      <td>11018022</td>\n",
       "      <td>Jakarta, 22 Juni 1993</td>\n",
       "      <td>3.20</td>\n",
       "      <td>2.4</td>\n",
       "      <td>2011</td>\n",
       "      <td>2016</td>\n",
       "      <td>2000000</td>\n",
       "      <td>460</td>\n",
       "      <td>5</td>\n",
       "      <td>30</td>\n",
       "    </tr>\n",
       "    <tr>\n",
       "      <th>6</th>\n",
       "      <td>6</td>\n",
       "      <td>9018212</td>\n",
       "      <td>Pekanbaru, 3 Juni 1991</td>\n",
       "      <td>3.24</td>\n",
       "      <td>0</td>\n",
       "      <td>2009</td>\n",
       "      <td>2016</td>\n",
       "      <td>1200000</td>\n",
       "      <td>403</td>\n",
       "      <td>7</td>\n",
       "      <td>32</td>\n",
       "    </tr>\n",
       "    <tr>\n",
       "      <th>7</th>\n",
       "      <td>7</td>\n",
       "      <td>9018301</td>\n",
       "      <td>Purbalingga, 08 Oktober 1991</td>\n",
       "      <td>3.06</td>\n",
       "      <td>2.4</td>\n",
       "      <td>2009</td>\n",
       "      <td>2016</td>\n",
       "      <td>2000000</td>\n",
       "      <td>450</td>\n",
       "      <td>7</td>\n",
       "      <td>32</td>\n",
       "    </tr>\n",
       "    <tr>\n",
       "      <th>8</th>\n",
       "      <td>8</td>\n",
       "      <td>12022020</td>\n",
       "      <td>Bukittinggi, 29 Maret 1992</td>\n",
       "      <td>3.47</td>\n",
       "      <td>2.4</td>\n",
       "      <td>2012</td>\n",
       "      <td>2016</td>\n",
       "      <td>1500000</td>\n",
       "      <td>423</td>\n",
       "      <td>4</td>\n",
       "      <td>31</td>\n",
       "    </tr>\n",
       "  </tbody>\n",
       "</table>\n",
       "</div>"
      ],
      "text/plain": [
       "0 No       NIM                           TTL   IPK Masa Tunggu Tahun Masuk  \\\n",
       "1  1   9018263       Tapuih, 4 November 1989  2.13         2.4        2009   \n",
       "2  2   9018269   Koto Anau, 19 Desember 1990  2.75         2.4        2009   \n",
       "3  3   9020026        Lampung, 27 Maret 1992  3.24         2.4        2009   \n",
       "4  4  12018060         Padang, 23 Maret 1994  3.37         2.4        2012   \n",
       "5  5  11018022         Jakarta, 22 Juni 1993  3.20         2.4        2011   \n",
       "6  6   9018212        Pekanbaru, 3 Juni 1991  3.24           0        2009   \n",
       "7  7   9018301  Purbalingga, 08 Oktober 1991  3.06         2.4        2009   \n",
       "8  8  12022020    Bukittinggi, 29 Maret 1992  3.47         2.4        2012   \n",
       "\n",
       "0 Tahun Lulus     Gaji TOEFL Masa Studi Umur  \n",
       "1        2016  2000000   390          7   34  \n",
       "2        2016  2000000   413          7   33  \n",
       "3        2016  2000000   400          7   31  \n",
       "4        2016  2000000   396          4   29  \n",
       "5        2016  2000000   460          5   30  \n",
       "6        2016  1200000   403          7   32  \n",
       "7        2016  2000000   450          7   32  \n",
       "8        2016  1500000   423          4   31  "
      ]
     },
     "execution_count": 36,
     "metadata": {},
     "output_type": "execute_result"
    }
   ],
   "source": [
    "df['IPK'] = df['IPK'].apply(str)\n",
    "df['IPK'] = df['IPK'].str.replace(',', '.').apply(float)\n",
    "df"
   ]
  },
  {
   "cell_type": "markdown",
   "id": "3a8fbbcd",
   "metadata": {},
   "source": [
    "## kategori IPK"
   ]
  },
  {
   "cell_type": "code",
   "execution_count": 37,
   "id": "60148386",
   "metadata": {},
   "outputs": [
    {
     "data": {
      "application/vnd.microsoft.datawrangler.viewer.v0+json": {
       "columns": [
        {
         "name": "index",
         "rawType": "int64",
         "type": "integer"
        },
        {
         "name": "NIM",
         "rawType": "object",
         "type": "unknown"
        },
        {
         "name": "IPK",
         "rawType": "float64",
         "type": "float"
        },
        {
         "name": "nilai_ipk",
         "rawType": "object",
         "type": "string"
        }
       ],
       "ref": "f4ec1355-e68a-475d-830d-a600f20192f8",
       "rows": [
        [
         "1",
         "9018263",
         "2.13",
         "Minimum"
        ],
        [
         "2",
         "9018269",
         "2.75",
         "Rata-rata"
        ],
        [
         "3",
         "9020026",
         "3.24",
         "Rata-rata"
        ],
        [
         "4",
         "12018060",
         "3.37",
         "Rata-rata"
        ],
        [
         "5",
         "11018022",
         "3.2",
         "Rata-rata"
        ],
        [
         "6",
         "9018212",
         "3.24",
         "Rata-rata"
        ],
        [
         "7",
         "9018301",
         "3.06",
         "Rata-rata"
        ],
        [
         "8",
         "12022020",
         "3.47",
         "Rata-rata"
        ]
       ],
       "shape": {
        "columns": 3,
        "rows": 8
       }
      },
      "text/html": [
       "<div>\n",
       "<style scoped>\n",
       "    .dataframe tbody tr th:only-of-type {\n",
       "        vertical-align: middle;\n",
       "    }\n",
       "\n",
       "    .dataframe tbody tr th {\n",
       "        vertical-align: top;\n",
       "    }\n",
       "\n",
       "    .dataframe thead th {\n",
       "        text-align: right;\n",
       "    }\n",
       "</style>\n",
       "<table border=\"1\" class=\"dataframe\">\n",
       "  <thead>\n",
       "    <tr style=\"text-align: right;\">\n",
       "      <th></th>\n",
       "      <th>NIM</th>\n",
       "      <th>IPK</th>\n",
       "      <th>nilai_ipk</th>\n",
       "    </tr>\n",
       "  </thead>\n",
       "  <tbody>\n",
       "    <tr>\n",
       "      <th>1</th>\n",
       "      <td>9018263</td>\n",
       "      <td>2.13</td>\n",
       "      <td>Minimum</td>\n",
       "    </tr>\n",
       "    <tr>\n",
       "      <th>2</th>\n",
       "      <td>9018269</td>\n",
       "      <td>2.75</td>\n",
       "      <td>Rata-rata</td>\n",
       "    </tr>\n",
       "    <tr>\n",
       "      <th>3</th>\n",
       "      <td>9020026</td>\n",
       "      <td>3.24</td>\n",
       "      <td>Rata-rata</td>\n",
       "    </tr>\n",
       "    <tr>\n",
       "      <th>4</th>\n",
       "      <td>12018060</td>\n",
       "      <td>3.37</td>\n",
       "      <td>Rata-rata</td>\n",
       "    </tr>\n",
       "    <tr>\n",
       "      <th>5</th>\n",
       "      <td>11018022</td>\n",
       "      <td>3.20</td>\n",
       "      <td>Rata-rata</td>\n",
       "    </tr>\n",
       "    <tr>\n",
       "      <th>6</th>\n",
       "      <td>9018212</td>\n",
       "      <td>3.24</td>\n",
       "      <td>Rata-rata</td>\n",
       "    </tr>\n",
       "    <tr>\n",
       "      <th>7</th>\n",
       "      <td>9018301</td>\n",
       "      <td>3.06</td>\n",
       "      <td>Rata-rata</td>\n",
       "    </tr>\n",
       "    <tr>\n",
       "      <th>8</th>\n",
       "      <td>12022020</td>\n",
       "      <td>3.47</td>\n",
       "      <td>Rata-rata</td>\n",
       "    </tr>\n",
       "  </tbody>\n",
       "</table>\n",
       "</div>"
      ],
      "text/plain": [
       "0       NIM   IPK  nilai_ipk\n",
       "1   9018263  2.13    Minimum\n",
       "2   9018269  2.75  Rata-rata\n",
       "3   9020026  3.24  Rata-rata\n",
       "4  12018060  3.37  Rata-rata\n",
       "5  11018022  3.20  Rata-rata\n",
       "6   9018212  3.24  Rata-rata\n",
       "7   9018301  3.06  Rata-rata\n",
       "8  12022020  3.47  Rata-rata"
      ]
     },
     "execution_count": 37,
     "metadata": {},
     "output_type": "execute_result"
    }
   ],
   "source": [
    "for index, row in df.iterrows():\n",
    "    if row['IPK'] > 3.50:\n",
    "        df.loc[index, 'nilai_ipk'] = 'Maksimum'\n",
    "    elif row ['IPK'] >= 2.75:\n",
    "        df.loc[index, 'nilai_ipk'] = 'Rata-rata'\n",
    "    else:\n",
    "        df.loc[index, 'nilai_ipk'] = 'Minimum'\n",
    "df[['NIM', 'IPK', 'nilai_ipk']]"
   ]
  },
  {
   "cell_type": "markdown",
   "id": "7e3568af",
   "metadata": {},
   "source": [
    "## kategori TOEFL"
   ]
  },
  {
   "cell_type": "code",
   "execution_count": 38,
   "id": "96eabd1b",
   "metadata": {},
   "outputs": [
    {
     "data": {
      "application/vnd.microsoft.datawrangler.viewer.v0+json": {
       "columns": [
        {
         "name": "index",
         "rawType": "int64",
         "type": "integer"
        },
        {
         "name": "NIM",
         "rawType": "object",
         "type": "unknown"
        },
        {
         "name": "IPK",
         "rawType": "float64",
         "type": "float"
        },
        {
         "name": "TOEFL",
         "rawType": "object",
         "type": "unknown"
        },
        {
         "name": "k_TOEFL",
         "rawType": "object",
         "type": "string"
        }
       ],
       "ref": "5346bd89-3bfc-4179-b9af-cfe87ea7b599",
       "rows": [
        [
         "1",
         "9018263",
         "2.13",
         "390",
         "T1"
        ],
        [
         "2",
         "9018269",
         "2.75",
         "413",
         "T1"
        ],
        [
         "3",
         "9020026",
         "3.24",
         "400",
         "T1"
        ],
        [
         "4",
         "12018060",
         "3.37",
         "396",
         "T1"
        ],
        [
         "5",
         "11018022",
         "3.2",
         "460",
         "T2"
        ],
        [
         "6",
         "9018212",
         "3.24",
         "403",
         "T1"
        ],
        [
         "7",
         "9018301",
         "3.06",
         "450",
         "T2"
        ],
        [
         "8",
         "12022020",
         "3.47",
         "423",
         "T1"
        ]
       ],
       "shape": {
        "columns": 4,
        "rows": 8
       }
      },
      "text/html": [
       "<div>\n",
       "<style scoped>\n",
       "    .dataframe tbody tr th:only-of-type {\n",
       "        vertical-align: middle;\n",
       "    }\n",
       "\n",
       "    .dataframe tbody tr th {\n",
       "        vertical-align: top;\n",
       "    }\n",
       "\n",
       "    .dataframe thead th {\n",
       "        text-align: right;\n",
       "    }\n",
       "</style>\n",
       "<table border=\"1\" class=\"dataframe\">\n",
       "  <thead>\n",
       "    <tr style=\"text-align: right;\">\n",
       "      <th></th>\n",
       "      <th>NIM</th>\n",
       "      <th>IPK</th>\n",
       "      <th>TOEFL</th>\n",
       "      <th>k_TOEFL</th>\n",
       "    </tr>\n",
       "  </thead>\n",
       "  <tbody>\n",
       "    <tr>\n",
       "      <th>1</th>\n",
       "      <td>9018263</td>\n",
       "      <td>2.13</td>\n",
       "      <td>390</td>\n",
       "      <td>T1</td>\n",
       "    </tr>\n",
       "    <tr>\n",
       "      <th>2</th>\n",
       "      <td>9018269</td>\n",
       "      <td>2.75</td>\n",
       "      <td>413</td>\n",
       "      <td>T1</td>\n",
       "    </tr>\n",
       "    <tr>\n",
       "      <th>3</th>\n",
       "      <td>9020026</td>\n",
       "      <td>3.24</td>\n",
       "      <td>400</td>\n",
       "      <td>T1</td>\n",
       "    </tr>\n",
       "    <tr>\n",
       "      <th>4</th>\n",
       "      <td>12018060</td>\n",
       "      <td>3.37</td>\n",
       "      <td>396</td>\n",
       "      <td>T1</td>\n",
       "    </tr>\n",
       "    <tr>\n",
       "      <th>5</th>\n",
       "      <td>11018022</td>\n",
       "      <td>3.20</td>\n",
       "      <td>460</td>\n",
       "      <td>T2</td>\n",
       "    </tr>\n",
       "    <tr>\n",
       "      <th>6</th>\n",
       "      <td>9018212</td>\n",
       "      <td>3.24</td>\n",
       "      <td>403</td>\n",
       "      <td>T1</td>\n",
       "    </tr>\n",
       "    <tr>\n",
       "      <th>7</th>\n",
       "      <td>9018301</td>\n",
       "      <td>3.06</td>\n",
       "      <td>450</td>\n",
       "      <td>T2</td>\n",
       "    </tr>\n",
       "    <tr>\n",
       "      <th>8</th>\n",
       "      <td>12022020</td>\n",
       "      <td>3.47</td>\n",
       "      <td>423</td>\n",
       "      <td>T1</td>\n",
       "    </tr>\n",
       "  </tbody>\n",
       "</table>\n",
       "</div>"
      ],
      "text/plain": [
       "0       NIM   IPK TOEFL k_TOEFL\n",
       "1   9018263  2.13   390      T1\n",
       "2   9018269  2.75   413      T1\n",
       "3   9020026  3.24   400      T1\n",
       "4  12018060  3.37   396      T1\n",
       "5  11018022  3.20   460      T2\n",
       "6   9018212  3.24   403      T1\n",
       "7   9018301  3.06   450      T2\n",
       "8  12022020  3.47   423      T1"
      ]
     },
     "execution_count": 38,
     "metadata": {},
     "output_type": "execute_result"
    }
   ],
   "source": [
    "for index, row in df.iterrows():\n",
    "    if row['TOEFL'] >= 500:\n",
    "        df.loc[index, 'k_TOEFL'] = 'T3'\n",
    "    elif row['TOEFL'] >= 450:\n",
    "        df.loc[index, 'k_TOEFL'] = 'T2'\n",
    "    else:\n",
    "        df.loc[index, 'k_TOEFL'] = 'T1'\n",
    "df[['NIM', 'IPK', 'TOEFL', 'k_TOEFL']]"
   ]
  },
  {
   "cell_type": "markdown",
   "id": "f28ab470",
   "metadata": {},
   "source": [
    "## kategori waktu tunggu"
   ]
  },
  {
   "cell_type": "code",
   "execution_count": 39,
   "id": "d3004547",
   "metadata": {},
   "outputs": [
    {
     "data": {
      "application/vnd.microsoft.datawrangler.viewer.v0+json": {
       "columns": [
        {
         "name": "index",
         "rawType": "int64",
         "type": "integer"
        },
        {
         "name": "NIM",
         "rawType": "object",
         "type": "unknown"
        },
        {
         "name": "IPK",
         "rawType": "float64",
         "type": "float"
        },
        {
         "name": "TOEFL",
         "rawType": "object",
         "type": "unknown"
        },
        {
         "name": "k_waktu",
         "rawType": "object",
         "type": "string"
        }
       ],
       "ref": "7fc95e3a-7dbf-492c-831a-effb0c527039",
       "rows": [
        [
         "1",
         "9018263",
         "2.13",
         "390",
         "W1"
        ],
        [
         "2",
         "9018269",
         "2.75",
         "413",
         "W1"
        ],
        [
         "3",
         "9020026",
         "3.24",
         "400",
         "W1"
        ],
        [
         "4",
         "12018060",
         "3.37",
         "396",
         "W1"
        ],
        [
         "5",
         "11018022",
         "3.2",
         "460",
         "W1"
        ],
        [
         "6",
         "9018212",
         "3.24",
         "403",
         "W1"
        ],
        [
         "7",
         "9018301",
         "3.06",
         "450",
         "W1"
        ],
        [
         "8",
         "12022020",
         "3.47",
         "423",
         "W1"
        ]
       ],
       "shape": {
        "columns": 4,
        "rows": 8
       }
      },
      "text/html": [
       "<div>\n",
       "<style scoped>\n",
       "    .dataframe tbody tr th:only-of-type {\n",
       "        vertical-align: middle;\n",
       "    }\n",
       "\n",
       "    .dataframe tbody tr th {\n",
       "        vertical-align: top;\n",
       "    }\n",
       "\n",
       "    .dataframe thead th {\n",
       "        text-align: right;\n",
       "    }\n",
       "</style>\n",
       "<table border=\"1\" class=\"dataframe\">\n",
       "  <thead>\n",
       "    <tr style=\"text-align: right;\">\n",
       "      <th></th>\n",
       "      <th>NIM</th>\n",
       "      <th>IPK</th>\n",
       "      <th>TOEFL</th>\n",
       "      <th>k_waktu</th>\n",
       "    </tr>\n",
       "  </thead>\n",
       "  <tbody>\n",
       "    <tr>\n",
       "      <th>1</th>\n",
       "      <td>9018263</td>\n",
       "      <td>2.13</td>\n",
       "      <td>390</td>\n",
       "      <td>W1</td>\n",
       "    </tr>\n",
       "    <tr>\n",
       "      <th>2</th>\n",
       "      <td>9018269</td>\n",
       "      <td>2.75</td>\n",
       "      <td>413</td>\n",
       "      <td>W1</td>\n",
       "    </tr>\n",
       "    <tr>\n",
       "      <th>3</th>\n",
       "      <td>9020026</td>\n",
       "      <td>3.24</td>\n",
       "      <td>400</td>\n",
       "      <td>W1</td>\n",
       "    </tr>\n",
       "    <tr>\n",
       "      <th>4</th>\n",
       "      <td>12018060</td>\n",
       "      <td>3.37</td>\n",
       "      <td>396</td>\n",
       "      <td>W1</td>\n",
       "    </tr>\n",
       "    <tr>\n",
       "      <th>5</th>\n",
       "      <td>11018022</td>\n",
       "      <td>3.20</td>\n",
       "      <td>460</td>\n",
       "      <td>W1</td>\n",
       "    </tr>\n",
       "    <tr>\n",
       "      <th>6</th>\n",
       "      <td>9018212</td>\n",
       "      <td>3.24</td>\n",
       "      <td>403</td>\n",
       "      <td>W1</td>\n",
       "    </tr>\n",
       "    <tr>\n",
       "      <th>7</th>\n",
       "      <td>9018301</td>\n",
       "      <td>3.06</td>\n",
       "      <td>450</td>\n",
       "      <td>W1</td>\n",
       "    </tr>\n",
       "    <tr>\n",
       "      <th>8</th>\n",
       "      <td>12022020</td>\n",
       "      <td>3.47</td>\n",
       "      <td>423</td>\n",
       "      <td>W1</td>\n",
       "    </tr>\n",
       "  </tbody>\n",
       "</table>\n",
       "</div>"
      ],
      "text/plain": [
       "0       NIM   IPK TOEFL k_waktu\n",
       "1   9018263  2.13   390      W1\n",
       "2   9018269  2.75   413      W1\n",
       "3   9020026  3.24   400      W1\n",
       "4  12018060  3.37   396      W1\n",
       "5  11018022  3.20   460      W1\n",
       "6   9018212  3.24   403      W1\n",
       "7   9018301  3.06   450      W1\n",
       "8  12022020  3.47   423      W1"
      ]
     },
     "execution_count": 39,
     "metadata": {},
     "output_type": "execute_result"
    }
   ],
   "source": [
    "for index, row in df.iterrows():\n",
    "    if row['Masa Tunggu'] >= 9:\n",
    "        df.loc[index, 'k_waktu'] = 'W4'\n",
    "    elif  row['Masa Tunggu'] >= 6:\n",
    "        df.loc[index, 'k_waktu'] = 'W3'\n",
    "    elif row['Masa Tunggu'] >= 3:\n",
    "        df.loc[index, 'k_waktu']  = 'W2'\n",
    "    else:\n",
    "        df.loc[index, 'k_waktu'] = 'W1'\n",
    "df[['NIM', 'IPK', 'TOEFL', 'k_waktu']]"
   ]
  },
  {
   "cell_type": "markdown",
   "id": "29341293",
   "metadata": {},
   "source": [
    "## kategori lama studi"
   ]
  },
  {
   "cell_type": "code",
   "execution_count": 40,
   "id": "d99dc3fd",
   "metadata": {},
   "outputs": [
    {
     "data": {
      "application/vnd.microsoft.datawrangler.viewer.v0+json": {
       "columns": [
        {
         "name": "index",
         "rawType": "int64",
         "type": "integer"
        },
        {
         "name": "NIM",
         "rawType": "object",
         "type": "unknown"
        },
        {
         "name": "IPK",
         "rawType": "float64",
         "type": "float"
        },
        {
         "name": "TOEFL",
         "rawType": "object",
         "type": "unknown"
        },
        {
         "name": "Masa Tunggu",
         "rawType": "object",
         "type": "unknown"
        },
        {
         "name": "lama_studi",
         "rawType": "object",
         "type": "string"
        }
       ],
       "ref": "22b73c92-6353-41f4-b53d-71bca6846d60",
       "rows": [
        [
         "1",
         "9018263",
         "2.13",
         "390",
         "2.4",
         "TTW"
        ],
        [
         "2",
         "9018269",
         "2.75",
         "413",
         "2.4",
         "TTW"
        ],
        [
         "3",
         "9020026",
         "3.24",
         "400",
         "2.4",
         "TTW"
        ],
        [
         "4",
         "12018060",
         "3.37",
         "396",
         "2.4",
         "TW"
        ],
        [
         "5",
         "11018022",
         "3.2",
         "460",
         "2.4",
         "TTW"
        ],
        [
         "6",
         "9018212",
         "3.24",
         "403",
         "0",
         "TTW"
        ],
        [
         "7",
         "9018301",
         "3.06",
         "450",
         "2.4",
         "TTW"
        ],
        [
         "8",
         "12022020",
         "3.47",
         "423",
         "2.4",
         "TW"
        ]
       ],
       "shape": {
        "columns": 5,
        "rows": 8
       }
      },
      "text/html": [
       "<div>\n",
       "<style scoped>\n",
       "    .dataframe tbody tr th:only-of-type {\n",
       "        vertical-align: middle;\n",
       "    }\n",
       "\n",
       "    .dataframe tbody tr th {\n",
       "        vertical-align: top;\n",
       "    }\n",
       "\n",
       "    .dataframe thead th {\n",
       "        text-align: right;\n",
       "    }\n",
       "</style>\n",
       "<table border=\"1\" class=\"dataframe\">\n",
       "  <thead>\n",
       "    <tr style=\"text-align: right;\">\n",
       "      <th></th>\n",
       "      <th>NIM</th>\n",
       "      <th>IPK</th>\n",
       "      <th>TOEFL</th>\n",
       "      <th>Masa Tunggu</th>\n",
       "      <th>lama_studi</th>\n",
       "    </tr>\n",
       "  </thead>\n",
       "  <tbody>\n",
       "    <tr>\n",
       "      <th>1</th>\n",
       "      <td>9018263</td>\n",
       "      <td>2.13</td>\n",
       "      <td>390</td>\n",
       "      <td>2.4</td>\n",
       "      <td>TTW</td>\n",
       "    </tr>\n",
       "    <tr>\n",
       "      <th>2</th>\n",
       "      <td>9018269</td>\n",
       "      <td>2.75</td>\n",
       "      <td>413</td>\n",
       "      <td>2.4</td>\n",
       "      <td>TTW</td>\n",
       "    </tr>\n",
       "    <tr>\n",
       "      <th>3</th>\n",
       "      <td>9020026</td>\n",
       "      <td>3.24</td>\n",
       "      <td>400</td>\n",
       "      <td>2.4</td>\n",
       "      <td>TTW</td>\n",
       "    </tr>\n",
       "    <tr>\n",
       "      <th>4</th>\n",
       "      <td>12018060</td>\n",
       "      <td>3.37</td>\n",
       "      <td>396</td>\n",
       "      <td>2.4</td>\n",
       "      <td>TW</td>\n",
       "    </tr>\n",
       "    <tr>\n",
       "      <th>5</th>\n",
       "      <td>11018022</td>\n",
       "      <td>3.20</td>\n",
       "      <td>460</td>\n",
       "      <td>2.4</td>\n",
       "      <td>TTW</td>\n",
       "    </tr>\n",
       "    <tr>\n",
       "      <th>6</th>\n",
       "      <td>9018212</td>\n",
       "      <td>3.24</td>\n",
       "      <td>403</td>\n",
       "      <td>0</td>\n",
       "      <td>TTW</td>\n",
       "    </tr>\n",
       "    <tr>\n",
       "      <th>7</th>\n",
       "      <td>9018301</td>\n",
       "      <td>3.06</td>\n",
       "      <td>450</td>\n",
       "      <td>2.4</td>\n",
       "      <td>TTW</td>\n",
       "    </tr>\n",
       "    <tr>\n",
       "      <th>8</th>\n",
       "      <td>12022020</td>\n",
       "      <td>3.47</td>\n",
       "      <td>423</td>\n",
       "      <td>2.4</td>\n",
       "      <td>TW</td>\n",
       "    </tr>\n",
       "  </tbody>\n",
       "</table>\n",
       "</div>"
      ],
      "text/plain": [
       "0       NIM   IPK TOEFL Masa Tunggu lama_studi\n",
       "1   9018263  2.13   390         2.4        TTW\n",
       "2   9018269  2.75   413         2.4        TTW\n",
       "3   9020026  3.24   400         2.4        TTW\n",
       "4  12018060  3.37   396         2.4         TW\n",
       "5  11018022  3.20   460         2.4        TTW\n",
       "6   9018212  3.24   403           0        TTW\n",
       "7   9018301  3.06   450         2.4        TTW\n",
       "8  12022020  3.47   423         2.4         TW"
      ]
     },
     "execution_count": 40,
     "metadata": {},
     "output_type": "execute_result"
    }
   ],
   "source": [
    "for index, row in df.iterrows():\n",
    "    if row['Masa Studi'] > 4:\n",
    "        df.loc[index, 'lama_studi'] = 'TTW'\n",
    "    else:\n",
    "        df.loc[index, 'lama_studi'] = 'TW'\n",
    "df[['NIM', 'IPK', 'TOEFL', 'Masa Tunggu', 'lama_studi']]"
   ]
  },
  {
   "cell_type": "markdown",
   "id": "3742dd96",
   "metadata": {},
   "source": [
    "## Kategori Umur"
   ]
  },
  {
   "cell_type": "code",
   "execution_count": 41,
   "id": "14b18bcc",
   "metadata": {},
   "outputs": [
    {
     "data": {
      "application/vnd.microsoft.datawrangler.viewer.v0+json": {
       "columns": [
        {
         "name": "index",
         "rawType": "int64",
         "type": "integer"
        },
        {
         "name": "NIM",
         "rawType": "object",
         "type": "unknown"
        },
        {
         "name": "IPK",
         "rawType": "float64",
         "type": "float"
        },
        {
         "name": "TOEFL",
         "rawType": "object",
         "type": "unknown"
        },
        {
         "name": "Masa Tunggu",
         "rawType": "object",
         "type": "unknown"
        },
        {
         "name": "lama_studi",
         "rawType": "object",
         "type": "string"
        },
        {
         "name": "k_umur",
         "rawType": "object",
         "type": "string"
        }
       ],
       "ref": "87fc7042-a180-4a3a-900c-cfe3677dc81f",
       "rows": [
        [
         "1",
         "9018263",
         "2.13",
         "390",
         "2.4",
         "TTW",
         "TP"
        ],
        [
         "2",
         "9018269",
         "2.75",
         "413",
         "2.4",
         "TTW",
         "TP"
        ],
        [
         "3",
         "9020026",
         "3.24",
         "400",
         "2.4",
         "TTW",
         "TP"
        ],
        [
         "4",
         "12018060",
         "3.37",
         "396",
         "2.4",
         "TW",
         "TP"
        ],
        [
         "5",
         "11018022",
         "3.2",
         "460",
         "2.4",
         "TTW",
         "TP"
        ],
        [
         "6",
         "9018212",
         "3.24",
         "403",
         "0",
         "TTW",
         "TP"
        ],
        [
         "7",
         "9018301",
         "3.06",
         "450",
         "2.4",
         "TTW",
         "TP"
        ],
        [
         "8",
         "12022020",
         "3.47",
         "423",
         "2.4",
         "TW",
         "TP"
        ]
       ],
       "shape": {
        "columns": 6,
        "rows": 8
       }
      },
      "text/html": [
       "<div>\n",
       "<style scoped>\n",
       "    .dataframe tbody tr th:only-of-type {\n",
       "        vertical-align: middle;\n",
       "    }\n",
       "\n",
       "    .dataframe tbody tr th {\n",
       "        vertical-align: top;\n",
       "    }\n",
       "\n",
       "    .dataframe thead th {\n",
       "        text-align: right;\n",
       "    }\n",
       "</style>\n",
       "<table border=\"1\" class=\"dataframe\">\n",
       "  <thead>\n",
       "    <tr style=\"text-align: right;\">\n",
       "      <th></th>\n",
       "      <th>NIM</th>\n",
       "      <th>IPK</th>\n",
       "      <th>TOEFL</th>\n",
       "      <th>Masa Tunggu</th>\n",
       "      <th>lama_studi</th>\n",
       "      <th>k_umur</th>\n",
       "    </tr>\n",
       "  </thead>\n",
       "  <tbody>\n",
       "    <tr>\n",
       "      <th>1</th>\n",
       "      <td>9018263</td>\n",
       "      <td>2.13</td>\n",
       "      <td>390</td>\n",
       "      <td>2.4</td>\n",
       "      <td>TTW</td>\n",
       "      <td>TP</td>\n",
       "    </tr>\n",
       "    <tr>\n",
       "      <th>2</th>\n",
       "      <td>9018269</td>\n",
       "      <td>2.75</td>\n",
       "      <td>413</td>\n",
       "      <td>2.4</td>\n",
       "      <td>TTW</td>\n",
       "      <td>TP</td>\n",
       "    </tr>\n",
       "    <tr>\n",
       "      <th>3</th>\n",
       "      <td>9020026</td>\n",
       "      <td>3.24</td>\n",
       "      <td>400</td>\n",
       "      <td>2.4</td>\n",
       "      <td>TTW</td>\n",
       "      <td>TP</td>\n",
       "    </tr>\n",
       "    <tr>\n",
       "      <th>4</th>\n",
       "      <td>12018060</td>\n",
       "      <td>3.37</td>\n",
       "      <td>396</td>\n",
       "      <td>2.4</td>\n",
       "      <td>TW</td>\n",
       "      <td>TP</td>\n",
       "    </tr>\n",
       "    <tr>\n",
       "      <th>5</th>\n",
       "      <td>11018022</td>\n",
       "      <td>3.20</td>\n",
       "      <td>460</td>\n",
       "      <td>2.4</td>\n",
       "      <td>TTW</td>\n",
       "      <td>TP</td>\n",
       "    </tr>\n",
       "    <tr>\n",
       "      <th>6</th>\n",
       "      <td>9018212</td>\n",
       "      <td>3.24</td>\n",
       "      <td>403</td>\n",
       "      <td>0</td>\n",
       "      <td>TTW</td>\n",
       "      <td>TP</td>\n",
       "    </tr>\n",
       "    <tr>\n",
       "      <th>7</th>\n",
       "      <td>9018301</td>\n",
       "      <td>3.06</td>\n",
       "      <td>450</td>\n",
       "      <td>2.4</td>\n",
       "      <td>TTW</td>\n",
       "      <td>TP</td>\n",
       "    </tr>\n",
       "    <tr>\n",
       "      <th>8</th>\n",
       "      <td>12022020</td>\n",
       "      <td>3.47</td>\n",
       "      <td>423</td>\n",
       "      <td>2.4</td>\n",
       "      <td>TW</td>\n",
       "      <td>TP</td>\n",
       "    </tr>\n",
       "  </tbody>\n",
       "</table>\n",
       "</div>"
      ],
      "text/plain": [
       "0       NIM   IPK TOEFL Masa Tunggu lama_studi k_umur\n",
       "1   9018263  2.13   390         2.4        TTW     TP\n",
       "2   9018269  2.75   413         2.4        TTW     TP\n",
       "3   9020026  3.24   400         2.4        TTW     TP\n",
       "4  12018060  3.37   396         2.4         TW     TP\n",
       "5  11018022  3.20   460         2.4        TTW     TP\n",
       "6   9018212  3.24   403           0        TTW     TP\n",
       "7   9018301  3.06   450         2.4        TTW     TP\n",
       "8  12022020  3.47   423         2.4         TW     TP"
      ]
     },
     "execution_count": 41,
     "metadata": {},
     "output_type": "execute_result"
    }
   ],
   "source": [
    "for index, row in df.iterrows():\n",
    "    if row['Umur'] >= 25:\n",
    "        df.loc[index, 'k_umur'] = 'TP'\n",
    "    else:\n",
    "        df.loc[index, 'k_umur'] = 'UP'\n",
    "df[['NIM', 'IPK', 'TOEFL', 'Masa Tunggu', 'lama_studi', 'k_umur']]"
   ]
  },
  {
   "cell_type": "markdown",
   "id": "638f3a68",
   "metadata": {},
   "source": [
    "## Kategori Gaji"
   ]
  },
  {
   "cell_type": "code",
   "execution_count": 42,
   "id": "3fcb5692",
   "metadata": {},
   "outputs": [
    {
     "data": {
      "application/vnd.microsoft.datawrangler.viewer.v0+json": {
       "columns": [
        {
         "name": "index",
         "rawType": "int64",
         "type": "integer"
        },
        {
         "name": "NIM",
         "rawType": "object",
         "type": "unknown"
        },
        {
         "name": "IPK",
         "rawType": "float64",
         "type": "float"
        },
        {
         "name": "TOEFL",
         "rawType": "object",
         "type": "unknown"
        },
        {
         "name": "Masa Tunggu",
         "rawType": "object",
         "type": "unknown"
        },
        {
         "name": "k_umur",
         "rawType": "object",
         "type": "string"
        },
        {
         "name": "Gaji",
         "rawType": "object",
         "type": "unknown"
        },
        {
         "name": "k_gaji",
         "rawType": "object",
         "type": "string"
        }
       ],
       "ref": "6b72b30b-5c04-4ba1-8808-a4ed63ebb93c",
       "rows": [
        [
         "1",
         "9018263",
         "2.13",
         "390",
         "2.4",
         "TP",
         "2000000",
         "A.UMR"
        ],
        [
         "2",
         "9018269",
         "2.75",
         "413",
         "2.4",
         "TP",
         "2000000",
         "A.UMR"
        ],
        [
         "3",
         "9020026",
         "3.24",
         "400",
         "2.4",
         "TP",
         "2000000",
         "A.UMR"
        ],
        [
         "4",
         "12018060",
         "3.37",
         "396",
         "2.4",
         "TP",
         "2000000",
         "A.UMR"
        ],
        [
         "5",
         "11018022",
         "3.2",
         "460",
         "2.4",
         "TP",
         "2000000",
         "A.UMR"
        ],
        [
         "6",
         "9018212",
         "3.24",
         "403",
         "0",
         "TP",
         "1200000",
         "B.UMR"
        ],
        [
         "7",
         "9018301",
         "3.06",
         "450",
         "2.4",
         "TP",
         "2000000",
         "A.UMR"
        ],
        [
         "8",
         "12022020",
         "3.47",
         "423",
         "2.4",
         "TP",
         "1500000",
         "B.UMR"
        ]
       ],
       "shape": {
        "columns": 7,
        "rows": 8
       }
      },
      "text/html": [
       "<div>\n",
       "<style scoped>\n",
       "    .dataframe tbody tr th:only-of-type {\n",
       "        vertical-align: middle;\n",
       "    }\n",
       "\n",
       "    .dataframe tbody tr th {\n",
       "        vertical-align: top;\n",
       "    }\n",
       "\n",
       "    .dataframe thead th {\n",
       "        text-align: right;\n",
       "    }\n",
       "</style>\n",
       "<table border=\"1\" class=\"dataframe\">\n",
       "  <thead>\n",
       "    <tr style=\"text-align: right;\">\n",
       "      <th></th>\n",
       "      <th>NIM</th>\n",
       "      <th>IPK</th>\n",
       "      <th>TOEFL</th>\n",
       "      <th>Masa Tunggu</th>\n",
       "      <th>k_umur</th>\n",
       "      <th>Gaji</th>\n",
       "      <th>k_gaji</th>\n",
       "    </tr>\n",
       "  </thead>\n",
       "  <tbody>\n",
       "    <tr>\n",
       "      <th>1</th>\n",
       "      <td>9018263</td>\n",
       "      <td>2.13</td>\n",
       "      <td>390</td>\n",
       "      <td>2.4</td>\n",
       "      <td>TP</td>\n",
       "      <td>2000000</td>\n",
       "      <td>A.UMR</td>\n",
       "    </tr>\n",
       "    <tr>\n",
       "      <th>2</th>\n",
       "      <td>9018269</td>\n",
       "      <td>2.75</td>\n",
       "      <td>413</td>\n",
       "      <td>2.4</td>\n",
       "      <td>TP</td>\n",
       "      <td>2000000</td>\n",
       "      <td>A.UMR</td>\n",
       "    </tr>\n",
       "    <tr>\n",
       "      <th>3</th>\n",
       "      <td>9020026</td>\n",
       "      <td>3.24</td>\n",
       "      <td>400</td>\n",
       "      <td>2.4</td>\n",
       "      <td>TP</td>\n",
       "      <td>2000000</td>\n",
       "      <td>A.UMR</td>\n",
       "    </tr>\n",
       "    <tr>\n",
       "      <th>4</th>\n",
       "      <td>12018060</td>\n",
       "      <td>3.37</td>\n",
       "      <td>396</td>\n",
       "      <td>2.4</td>\n",
       "      <td>TP</td>\n",
       "      <td>2000000</td>\n",
       "      <td>A.UMR</td>\n",
       "    </tr>\n",
       "    <tr>\n",
       "      <th>5</th>\n",
       "      <td>11018022</td>\n",
       "      <td>3.20</td>\n",
       "      <td>460</td>\n",
       "      <td>2.4</td>\n",
       "      <td>TP</td>\n",
       "      <td>2000000</td>\n",
       "      <td>A.UMR</td>\n",
       "    </tr>\n",
       "    <tr>\n",
       "      <th>6</th>\n",
       "      <td>9018212</td>\n",
       "      <td>3.24</td>\n",
       "      <td>403</td>\n",
       "      <td>0</td>\n",
       "      <td>TP</td>\n",
       "      <td>1200000</td>\n",
       "      <td>B.UMR</td>\n",
       "    </tr>\n",
       "    <tr>\n",
       "      <th>7</th>\n",
       "      <td>9018301</td>\n",
       "      <td>3.06</td>\n",
       "      <td>450</td>\n",
       "      <td>2.4</td>\n",
       "      <td>TP</td>\n",
       "      <td>2000000</td>\n",
       "      <td>A.UMR</td>\n",
       "    </tr>\n",
       "    <tr>\n",
       "      <th>8</th>\n",
       "      <td>12022020</td>\n",
       "      <td>3.47</td>\n",
       "      <td>423</td>\n",
       "      <td>2.4</td>\n",
       "      <td>TP</td>\n",
       "      <td>1500000</td>\n",
       "      <td>B.UMR</td>\n",
       "    </tr>\n",
       "  </tbody>\n",
       "</table>\n",
       "</div>"
      ],
      "text/plain": [
       "0       NIM   IPK TOEFL Masa Tunggu k_umur     Gaji k_gaji\n",
       "1   9018263  2.13   390         2.4     TP  2000000  A.UMR\n",
       "2   9018269  2.75   413         2.4     TP  2000000  A.UMR\n",
       "3   9020026  3.24   400         2.4     TP  2000000  A.UMR\n",
       "4  12018060  3.37   396         2.4     TP  2000000  A.UMR\n",
       "5  11018022  3.20   460         2.4     TP  2000000  A.UMR\n",
       "6   9018212  3.24   403           0     TP  1200000  B.UMR\n",
       "7   9018301  3.06   450         2.4     TP  2000000  A.UMR\n",
       "8  12022020  3.47   423         2.4     TP  1500000  B.UMR"
      ]
     },
     "execution_count": 42,
     "metadata": {},
     "output_type": "execute_result"
    }
   ],
   "source": [
    "for index, row in df.iterrows():\n",
    "    if row['Gaji'] >= 1572200:\n",
    "        df.loc[index, 'k_gaji'] = 'A.UMR'\n",
    "    else:\n",
    "        df.loc[index, 'k_gaji'] = 'B.UMR'\n",
    "df[['NIM', 'IPK', 'TOEFL', 'Masa Tunggu', 'k_umur', 'Gaji', 'k_gaji']]"
   ]
  },
  {
   "cell_type": "markdown",
   "id": "aa3b6405",
   "metadata": {},
   "source": [
    "## transformasi data umur"
   ]
  },
  {
   "cell_type": "code",
   "execution_count": 43,
   "id": "0efae866",
   "metadata": {},
   "outputs": [
    {
     "data": {
      "application/vnd.microsoft.datawrangler.viewer.v0+json": {
       "columns": [
        {
         "name": "index",
         "rawType": "int64",
         "type": "integer"
        },
        {
         "name": "No",
         "rawType": "object",
         "type": "unknown"
        },
        {
         "name": "NIM",
         "rawType": "object",
         "type": "unknown"
        },
        {
         "name": "TTL",
         "rawType": "object",
         "type": "string"
        },
        {
         "name": "IPK",
         "rawType": "float64",
         "type": "float"
        },
        {
         "name": "Masa Tunggu",
         "rawType": "object",
         "type": "unknown"
        },
        {
         "name": "Tahun Masuk",
         "rawType": "object",
         "type": "unknown"
        },
        {
         "name": "Tahun Lulus",
         "rawType": "object",
         "type": "unknown"
        },
        {
         "name": "Gaji",
         "rawType": "object",
         "type": "unknown"
        },
        {
         "name": "TOEFL",
         "rawType": "object",
         "type": "unknown"
        },
        {
         "name": "Masa Studi",
         "rawType": "object",
         "type": "unknown"
        },
        {
         "name": "Umur",
         "rawType": "object",
         "type": "unknown"
        },
        {
         "name": "nilai_ipk",
         "rawType": "object",
         "type": "string"
        },
        {
         "name": "k_TOEFL",
         "rawType": "object",
         "type": "string"
        },
        {
         "name": "k_waktu",
         "rawType": "object",
         "type": "string"
        },
        {
         "name": "lama_studi",
         "rawType": "object",
         "type": "string"
        },
        {
         "name": "k_umur",
         "rawType": "object",
         "type": "string"
        },
        {
         "name": "k_gaji",
         "rawType": "object",
         "type": "string"
        }
       ],
       "ref": "5a119735-d233-40b3-b9de-1e0522c80946",
       "rows": [
        [
         "1",
         "1",
         "9018263",
         "Tapuih, 4 November 1989",
         "2.13",
         "2.4",
         "2009",
         "2016",
         "2000000",
         "390",
         "7",
         "68",
         "Minimum",
         "T1",
         "W1",
         "TTW",
         "TP",
         "A.UMR"
        ],
        [
         "2",
         "2",
         "9018269",
         "Koto Anau, 19 Desember 1990",
         "2.75",
         "2.4",
         "2009",
         "2016",
         "2000000",
         "413",
         "7",
         "66",
         "Rata-rata",
         "T1",
         "W1",
         "TTW",
         "TP",
         "A.UMR"
        ],
        [
         "3",
         "3",
         "9020026",
         "Lampung, 27 Maret 1992",
         "3.24",
         "2.4",
         "2009",
         "2016",
         "2000000",
         "400",
         "7",
         "62",
         "Rata-rata",
         "T1",
         "W1",
         "TTW",
         "TP",
         "A.UMR"
        ],
        [
         "4",
         "4",
         "12018060",
         "Padang, 23 Maret 1994",
         "3.37",
         "2.4",
         "2012",
         "2016",
         "2000000",
         "396",
         "4",
         "58",
         "Rata-rata",
         "T1",
         "W1",
         "TW",
         "TP",
         "A.UMR"
        ],
        [
         "5",
         "5",
         "11018022",
         "Jakarta, 22 Juni 1993",
         "3.2",
         "2.4",
         "2011",
         "2016",
         "2000000",
         "460",
         "5",
         "60",
         "Rata-rata",
         "T2",
         "W1",
         "TTW",
         "TP",
         "A.UMR"
        ],
        [
         "6",
         "6",
         "9018212",
         "Pekanbaru, 3 Juni 1991",
         "3.24",
         "0",
         "2009",
         "2016",
         "1200000",
         "403",
         "7",
         "64",
         "Rata-rata",
         "T1",
         "W1",
         "TTW",
         "TP",
         "B.UMR"
        ],
        [
         "7",
         "7",
         "9018301",
         "Purbalingga, 08 Oktober 1991",
         "3.06",
         "2.4",
         "2009",
         "2016",
         "2000000",
         "450",
         "7",
         "64",
         "Rata-rata",
         "T2",
         "W1",
         "TTW",
         "TP",
         "A.UMR"
        ],
        [
         "8",
         "8",
         "12022020",
         "Bukittinggi, 29 Maret 1992",
         "3.47",
         "2.4",
         "2012",
         "2016",
         "1500000",
         "423",
         "4",
         "62",
         "Rata-rata",
         "T1",
         "W1",
         "TW",
         "TP",
         "B.UMR"
        ]
       ],
       "shape": {
        "columns": 17,
        "rows": 8
       }
      },
      "text/html": [
       "<div>\n",
       "<style scoped>\n",
       "    .dataframe tbody tr th:only-of-type {\n",
       "        vertical-align: middle;\n",
       "    }\n",
       "\n",
       "    .dataframe tbody tr th {\n",
       "        vertical-align: top;\n",
       "    }\n",
       "\n",
       "    .dataframe thead th {\n",
       "        text-align: right;\n",
       "    }\n",
       "</style>\n",
       "<table border=\"1\" class=\"dataframe\">\n",
       "  <thead>\n",
       "    <tr style=\"text-align: right;\">\n",
       "      <th></th>\n",
       "      <th>No</th>\n",
       "      <th>NIM</th>\n",
       "      <th>TTL</th>\n",
       "      <th>IPK</th>\n",
       "      <th>Masa Tunggu</th>\n",
       "      <th>Tahun Masuk</th>\n",
       "      <th>Tahun Lulus</th>\n",
       "      <th>Gaji</th>\n",
       "      <th>TOEFL</th>\n",
       "      <th>Masa Studi</th>\n",
       "      <th>Umur</th>\n",
       "      <th>nilai_ipk</th>\n",
       "      <th>k_TOEFL</th>\n",
       "      <th>k_waktu</th>\n",
       "      <th>lama_studi</th>\n",
       "      <th>k_umur</th>\n",
       "      <th>k_gaji</th>\n",
       "    </tr>\n",
       "  </thead>\n",
       "  <tbody>\n",
       "    <tr>\n",
       "      <th>1</th>\n",
       "      <td>1</td>\n",
       "      <td>9018263</td>\n",
       "      <td>Tapuih, 4 November 1989</td>\n",
       "      <td>2.13</td>\n",
       "      <td>2.4</td>\n",
       "      <td>2009</td>\n",
       "      <td>2016</td>\n",
       "      <td>2000000</td>\n",
       "      <td>390</td>\n",
       "      <td>7</td>\n",
       "      <td>68</td>\n",
       "      <td>Minimum</td>\n",
       "      <td>T1</td>\n",
       "      <td>W1</td>\n",
       "      <td>TTW</td>\n",
       "      <td>TP</td>\n",
       "      <td>A.UMR</td>\n",
       "    </tr>\n",
       "    <tr>\n",
       "      <th>2</th>\n",
       "      <td>2</td>\n",
       "      <td>9018269</td>\n",
       "      <td>Koto Anau, 19 Desember 1990</td>\n",
       "      <td>2.75</td>\n",
       "      <td>2.4</td>\n",
       "      <td>2009</td>\n",
       "      <td>2016</td>\n",
       "      <td>2000000</td>\n",
       "      <td>413</td>\n",
       "      <td>7</td>\n",
       "      <td>66</td>\n",
       "      <td>Rata-rata</td>\n",
       "      <td>T1</td>\n",
       "      <td>W1</td>\n",
       "      <td>TTW</td>\n",
       "      <td>TP</td>\n",
       "      <td>A.UMR</td>\n",
       "    </tr>\n",
       "    <tr>\n",
       "      <th>3</th>\n",
       "      <td>3</td>\n",
       "      <td>9020026</td>\n",
       "      <td>Lampung, 27 Maret 1992</td>\n",
       "      <td>3.24</td>\n",
       "      <td>2.4</td>\n",
       "      <td>2009</td>\n",
       "      <td>2016</td>\n",
       "      <td>2000000</td>\n",
       "      <td>400</td>\n",
       "      <td>7</td>\n",
       "      <td>62</td>\n",
       "      <td>Rata-rata</td>\n",
       "      <td>T1</td>\n",
       "      <td>W1</td>\n",
       "      <td>TTW</td>\n",
       "      <td>TP</td>\n",
       "      <td>A.UMR</td>\n",
       "    </tr>\n",
       "    <tr>\n",
       "      <th>4</th>\n",
       "      <td>4</td>\n",
       "      <td>12018060</td>\n",
       "      <td>Padang, 23 Maret 1994</td>\n",
       "      <td>3.37</td>\n",
       "      <td>2.4</td>\n",
       "      <td>2012</td>\n",
       "      <td>2016</td>\n",
       "      <td>2000000</td>\n",
       "      <td>396</td>\n",
       "      <td>4</td>\n",
       "      <td>58</td>\n",
       "      <td>Rata-rata</td>\n",
       "      <td>T1</td>\n",
       "      <td>W1</td>\n",
       "      <td>TW</td>\n",
       "      <td>TP</td>\n",
       "      <td>A.UMR</td>\n",
       "    </tr>\n",
       "    <tr>\n",
       "      <th>5</th>\n",
       "      <td>5</td>\n",
       "      <td>11018022</td>\n",
       "      <td>Jakarta, 22 Juni 1993</td>\n",
       "      <td>3.20</td>\n",
       "      <td>2.4</td>\n",
       "      <td>2011</td>\n",
       "      <td>2016</td>\n",
       "      <td>2000000</td>\n",
       "      <td>460</td>\n",
       "      <td>5</td>\n",
       "      <td>60</td>\n",
       "      <td>Rata-rata</td>\n",
       "      <td>T2</td>\n",
       "      <td>W1</td>\n",
       "      <td>TTW</td>\n",
       "      <td>TP</td>\n",
       "      <td>A.UMR</td>\n",
       "    </tr>\n",
       "    <tr>\n",
       "      <th>6</th>\n",
       "      <td>6</td>\n",
       "      <td>9018212</td>\n",
       "      <td>Pekanbaru, 3 Juni 1991</td>\n",
       "      <td>3.24</td>\n",
       "      <td>0</td>\n",
       "      <td>2009</td>\n",
       "      <td>2016</td>\n",
       "      <td>1200000</td>\n",
       "      <td>403</td>\n",
       "      <td>7</td>\n",
       "      <td>64</td>\n",
       "      <td>Rata-rata</td>\n",
       "      <td>T1</td>\n",
       "      <td>W1</td>\n",
       "      <td>TTW</td>\n",
       "      <td>TP</td>\n",
       "      <td>B.UMR</td>\n",
       "    </tr>\n",
       "    <tr>\n",
       "      <th>7</th>\n",
       "      <td>7</td>\n",
       "      <td>9018301</td>\n",
       "      <td>Purbalingga, 08 Oktober 1991</td>\n",
       "      <td>3.06</td>\n",
       "      <td>2.4</td>\n",
       "      <td>2009</td>\n",
       "      <td>2016</td>\n",
       "      <td>2000000</td>\n",
       "      <td>450</td>\n",
       "      <td>7</td>\n",
       "      <td>64</td>\n",
       "      <td>Rata-rata</td>\n",
       "      <td>T2</td>\n",
       "      <td>W1</td>\n",
       "      <td>TTW</td>\n",
       "      <td>TP</td>\n",
       "      <td>A.UMR</td>\n",
       "    </tr>\n",
       "    <tr>\n",
       "      <th>8</th>\n",
       "      <td>8</td>\n",
       "      <td>12022020</td>\n",
       "      <td>Bukittinggi, 29 Maret 1992</td>\n",
       "      <td>3.47</td>\n",
       "      <td>2.4</td>\n",
       "      <td>2012</td>\n",
       "      <td>2016</td>\n",
       "      <td>1500000</td>\n",
       "      <td>423</td>\n",
       "      <td>4</td>\n",
       "      <td>62</td>\n",
       "      <td>Rata-rata</td>\n",
       "      <td>T1</td>\n",
       "      <td>W1</td>\n",
       "      <td>TW</td>\n",
       "      <td>TP</td>\n",
       "      <td>B.UMR</td>\n",
       "    </tr>\n",
       "  </tbody>\n",
       "</table>\n",
       "</div>"
      ],
      "text/plain": [
       "0 No       NIM                           TTL   IPK Masa Tunggu Tahun Masuk  \\\n",
       "1  1   9018263       Tapuih, 4 November 1989  2.13         2.4        2009   \n",
       "2  2   9018269   Koto Anau, 19 Desember 1990  2.75         2.4        2009   \n",
       "3  3   9020026        Lampung, 27 Maret 1992  3.24         2.4        2009   \n",
       "4  4  12018060         Padang, 23 Maret 1994  3.37         2.4        2012   \n",
       "5  5  11018022         Jakarta, 22 Juni 1993  3.20         2.4        2011   \n",
       "6  6   9018212        Pekanbaru, 3 Juni 1991  3.24           0        2009   \n",
       "7  7   9018301  Purbalingga, 08 Oktober 1991  3.06         2.4        2009   \n",
       "8  8  12022020    Bukittinggi, 29 Maret 1992  3.47         2.4        2012   \n",
       "\n",
       "0 Tahun Lulus     Gaji TOEFL Masa Studi Umur  nilai_ipk k_TOEFL k_waktu  \\\n",
       "1        2016  2000000   390          7   68    Minimum      T1      W1   \n",
       "2        2016  2000000   413          7   66  Rata-rata      T1      W1   \n",
       "3        2016  2000000   400          7   62  Rata-rata      T1      W1   \n",
       "4        2016  2000000   396          4   58  Rata-rata      T1      W1   \n",
       "5        2016  2000000   460          5   60  Rata-rata      T2      W1   \n",
       "6        2016  1200000   403          7   64  Rata-rata      T1      W1   \n",
       "7        2016  2000000   450          7   64  Rata-rata      T2      W1   \n",
       "8        2016  1500000   423          4   62  Rata-rata      T1      W1   \n",
       "\n",
       "0 lama_studi k_umur k_gaji  \n",
       "1        TTW     TP  A.UMR  \n",
       "2        TTW     TP  A.UMR  \n",
       "3        TTW     TP  A.UMR  \n",
       "4         TW     TP  A.UMR  \n",
       "5        TTW     TP  A.UMR  \n",
       "6        TTW     TP  B.UMR  \n",
       "7        TTW     TP  A.UMR  \n",
       "8         TW     TP  B.UMR  "
      ]
     },
     "execution_count": 43,
     "metadata": {},
     "output_type": "execute_result"
    }
   ],
   "source": [
    "df['Umur'] = df['Umur'].multiply(2)\n",
    "df"
   ]
  }
 ],
 "metadata": {
  "kernelspec": {
   "display_name": "Python 3",
   "language": "python",
   "name": "python3"
  },
  "language_info": {
   "codemirror_mode": {
    "name": "ipython",
    "version": 3
   },
   "file_extension": ".py",
   "mimetype": "text/x-python",
   "name": "python",
   "nbconvert_exporter": "python",
   "pygments_lexer": "ipython3",
   "version": "3.13.7"
  }
 },
 "nbformat": 4,
 "nbformat_minor": 5
}
