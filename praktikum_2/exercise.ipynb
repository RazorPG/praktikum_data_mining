{
 "cells": [
  {
   "cell_type": "markdown",
   "id": "915f5985",
   "metadata": {},
   "source": [
    "## import library yang digunakan"
   ]
  },
  {
   "cell_type": "code",
   "execution_count": 5,
   "id": "8d57457b",
   "metadata": {},
   "outputs": [],
   "source": [
    "import pandas as pd\n",
    "from openpyxl import load_workbook"
   ]
  },
  {
   "cell_type": "markdown",
   "id": "1e8d2bea",
   "metadata": {},
   "source": [
    "## inisiasi dataset dari excel"
   ]
  },
  {
   "cell_type": "code",
   "execution_count": 7,
   "id": "45da7bfa",
   "metadata": {},
   "outputs": [
    {
     "data": {
      "application/vnd.microsoft.datawrangler.viewer.v0+json": {
       "columns": [
        {
         "name": "index",
         "rawType": "int64",
         "type": "integer"
        },
        {
         "name": "No",
         "rawType": "object",
         "type": "unknown"
        },
        {
         "name": "NIM",
         "rawType": "object",
         "type": "unknown"
        },
        {
         "name": "TTL",
         "rawType": "object",
         "type": "string"
        },
        {
         "name": "IPK",
         "rawType": "object",
         "type": "unknown"
        },
        {
         "name": "Masa Tunggu",
         "rawType": "object",
         "type": "unknown"
        },
        {
         "name": "Tahun Masuk",
         "rawType": "object",
         "type": "unknown"
        },
        {
         "name": "Tahun Lulus",
         "rawType": "object",
         "type": "unknown"
        },
        {
         "name": "Gaji",
         "rawType": "object",
         "type": "unknown"
        },
        {
         "name": "TOEFL",
         "rawType": "object",
         "type": "unknown"
        },
        {
         "name": "Masa Studi",
         "rawType": "object",
         "type": "unknown"
        },
        {
         "name": "Umur",
         "rawType": "object",
         "type": "unknown"
        }
       ],
       "ref": "065a8d7d-f938-409c-b96e-60eae6e53940",
       "rows": [
        [
         "1",
         "1",
         "9018263",
         "Tapuih, 4 November 1989",
         "2.13",
         "2.4",
         "2009",
         "2016",
         "2000000",
         "390",
         "7",
         "34"
        ],
        [
         "2",
         "2",
         "9018269",
         "Koto Anau, 19 Desember 1990",
         "2.75",
         "2.4",
         "2009",
         "2016",
         "2000000",
         "413",
         "7",
         "33"
        ],
        [
         "3",
         "3",
         "9020026",
         "Lampung, 27 Maret 1992",
         "3.24",
         "2.4",
         "2009",
         "2016",
         "2000000",
         "400",
         "7",
         "31"
        ],
        [
         "4",
         "4",
         "12018060",
         "Padang, 23 Maret 1994",
         "3.37",
         "2.4",
         "2012",
         "2016",
         "2000000",
         "396",
         "4",
         "29"
        ],
        [
         "5",
         "5",
         "11018022",
         "Jakarta, 22 Juni 1993",
         "3.2",
         "2.4",
         "2011",
         "2016",
         "2000000",
         "460",
         "5",
         "30"
        ],
        [
         "6",
         "6",
         "9018212",
         "Pekanbaru, 3 Juni 1991",
         "3.24",
         "0",
         "2009",
         "2016",
         "1200000",
         "403",
         "7",
         "32"
        ],
        [
         "7",
         "7",
         "9018301",
         "Purbalingga, 08 Oktober 1991",
         "3.06",
         "2.4",
         "2009",
         "2016",
         "2000000",
         "450",
         "7",
         "32"
        ],
        [
         "8",
         "8",
         "12022020",
         "Bukittinggi, 29 Maret 1992",
         "3.47",
         "2.4",
         "2012",
         "2016",
         "1500000",
         "423",
         "4",
         "31"
        ]
       ],
       "shape": {
        "columns": 11,
        "rows": 8
       }
      },
      "text/html": [
       "<div>\n",
       "<style scoped>\n",
       "    .dataframe tbody tr th:only-of-type {\n",
       "        vertical-align: middle;\n",
       "    }\n",
       "\n",
       "    .dataframe tbody tr th {\n",
       "        vertical-align: top;\n",
       "    }\n",
       "\n",
       "    .dataframe thead th {\n",
       "        text-align: right;\n",
       "    }\n",
       "</style>\n",
       "<table border=\"1\" class=\"dataframe\">\n",
       "  <thead>\n",
       "    <tr style=\"text-align: right;\">\n",
       "      <th></th>\n",
       "      <th>No</th>\n",
       "      <th>NIM</th>\n",
       "      <th>TTL</th>\n",
       "      <th>IPK</th>\n",
       "      <th>Masa Tunggu</th>\n",
       "      <th>Tahun Masuk</th>\n",
       "      <th>Tahun Lulus</th>\n",
       "      <th>Gaji</th>\n",
       "      <th>TOEFL</th>\n",
       "      <th>Masa Studi</th>\n",
       "      <th>Umur</th>\n",
       "    </tr>\n",
       "  </thead>\n",
       "  <tbody>\n",
       "    <tr>\n",
       "      <th>1</th>\n",
       "      <td>1</td>\n",
       "      <td>9018263</td>\n",
       "      <td>Tapuih, 4 November 1989</td>\n",
       "      <td>2.13</td>\n",
       "      <td>2.4</td>\n",
       "      <td>2009</td>\n",
       "      <td>2016</td>\n",
       "      <td>2000000</td>\n",
       "      <td>390</td>\n",
       "      <td>7</td>\n",
       "      <td>34</td>\n",
       "    </tr>\n",
       "    <tr>\n",
       "      <th>2</th>\n",
       "      <td>2</td>\n",
       "      <td>9018269</td>\n",
       "      <td>Koto Anau, 19 Desember 1990</td>\n",
       "      <td>2.75</td>\n",
       "      <td>2.4</td>\n",
       "      <td>2009</td>\n",
       "      <td>2016</td>\n",
       "      <td>2000000</td>\n",
       "      <td>413</td>\n",
       "      <td>7</td>\n",
       "      <td>33</td>\n",
       "    </tr>\n",
       "    <tr>\n",
       "      <th>3</th>\n",
       "      <td>3</td>\n",
       "      <td>9020026</td>\n",
       "      <td>Lampung, 27 Maret 1992</td>\n",
       "      <td>3.24</td>\n",
       "      <td>2.4</td>\n",
       "      <td>2009</td>\n",
       "      <td>2016</td>\n",
       "      <td>2000000</td>\n",
       "      <td>400</td>\n",
       "      <td>7</td>\n",
       "      <td>31</td>\n",
       "    </tr>\n",
       "    <tr>\n",
       "      <th>4</th>\n",
       "      <td>4</td>\n",
       "      <td>12018060</td>\n",
       "      <td>Padang, 23 Maret 1994</td>\n",
       "      <td>3.37</td>\n",
       "      <td>2.4</td>\n",
       "      <td>2012</td>\n",
       "      <td>2016</td>\n",
       "      <td>2000000</td>\n",
       "      <td>396</td>\n",
       "      <td>4</td>\n",
       "      <td>29</td>\n",
       "    </tr>\n",
       "    <tr>\n",
       "      <th>5</th>\n",
       "      <td>5</td>\n",
       "      <td>11018022</td>\n",
       "      <td>Jakarta, 22 Juni 1993</td>\n",
       "      <td>3.2</td>\n",
       "      <td>2.4</td>\n",
       "      <td>2011</td>\n",
       "      <td>2016</td>\n",
       "      <td>2000000</td>\n",
       "      <td>460</td>\n",
       "      <td>5</td>\n",
       "      <td>30</td>\n",
       "    </tr>\n",
       "    <tr>\n",
       "      <th>6</th>\n",
       "      <td>6</td>\n",
       "      <td>9018212</td>\n",
       "      <td>Pekanbaru, 3 Juni 1991</td>\n",
       "      <td>3.24</td>\n",
       "      <td>0</td>\n",
       "      <td>2009</td>\n",
       "      <td>2016</td>\n",
       "      <td>1200000</td>\n",
       "      <td>403</td>\n",
       "      <td>7</td>\n",
       "      <td>32</td>\n",
       "    </tr>\n",
       "    <tr>\n",
       "      <th>7</th>\n",
       "      <td>7</td>\n",
       "      <td>9018301</td>\n",
       "      <td>Purbalingga, 08 Oktober 1991</td>\n",
       "      <td>3.06</td>\n",
       "      <td>2.4</td>\n",
       "      <td>2009</td>\n",
       "      <td>2016</td>\n",
       "      <td>2000000</td>\n",
       "      <td>450</td>\n",
       "      <td>7</td>\n",
       "      <td>32</td>\n",
       "    </tr>\n",
       "    <tr>\n",
       "      <th>8</th>\n",
       "      <td>8</td>\n",
       "      <td>12022020</td>\n",
       "      <td>Bukittinggi, 29 Maret 1992</td>\n",
       "      <td>3.47</td>\n",
       "      <td>2.4</td>\n",
       "      <td>2012</td>\n",
       "      <td>2016</td>\n",
       "      <td>1500000</td>\n",
       "      <td>423</td>\n",
       "      <td>4</td>\n",
       "      <td>31</td>\n",
       "    </tr>\n",
       "  </tbody>\n",
       "</table>\n",
       "</div>"
      ],
      "text/plain": [
       "0 No       NIM                           TTL   IPK Masa Tunggu Tahun Masuk  \\\n",
       "1  1   9018263       Tapuih, 4 November 1989  2.13         2.4        2009   \n",
       "2  2   9018269   Koto Anau, 19 Desember 1990  2.75         2.4        2009   \n",
       "3  3   9020026        Lampung, 27 Maret 1992  3.24         2.4        2009   \n",
       "4  4  12018060         Padang, 23 Maret 1994  3.37         2.4        2012   \n",
       "5  5  11018022         Jakarta, 22 Juni 1993   3.2         2.4        2011   \n",
       "6  6   9018212        Pekanbaru, 3 Juni 1991  3.24           0        2009   \n",
       "7  7   9018301  Purbalingga, 08 Oktober 1991  3.06         2.4        2009   \n",
       "8  8  12022020    Bukittinggi, 29 Maret 1992  3.47         2.4        2012   \n",
       "\n",
       "0 Tahun Lulus     Gaji TOEFL Masa Studi Umur  \n",
       "1        2016  2000000   390          7   34  \n",
       "2        2016  2000000   413          7   33  \n",
       "3        2016  2000000   400          7   31  \n",
       "4        2016  2000000   396          4   29  \n",
       "5        2016  2000000   460          5   30  \n",
       "6        2016  1200000   403          7   32  \n",
       "7        2016  2000000   450          7   32  \n",
       "8        2016  1500000   423          4   31  "
      ]
     },
     "execution_count": 7,
     "metadata": {},
     "output_type": "execute_result"
    }
   ],
   "source": [
    "wb = load_workbook('D:\\\\Studied_at_UNP\\\\SEMESTER-5\\\\praktikum_data_mining\\\\praktikum_2\\\\Data Alumni.xlsx')\n",
    "sheet_range = wb['Sheet1']\n",
    "df = pd.DataFrame(sheet_range.values)\n",
    "df.columns = df.iloc[0]\n",
    "df = df.drop(0)\n",
    "df"
   ]
  },
  {
   "cell_type": "markdown",
   "id": "d8d2ad61",
   "metadata": {},
   "source": [
    "## seleksi data sampling pada kolom IPK dan TOEFL"
   ]
  },
  {
   "cell_type": "code",
   "execution_count": 8,
   "id": "ee8382ef",
   "metadata": {},
   "outputs": [
    {
     "data": {
      "application/vnd.microsoft.datawrangler.viewer.v0+json": {
       "columns": [
        {
         "name": "index",
         "rawType": "int64",
         "type": "integer"
        },
        {
         "name": "IPK",
         "rawType": "object",
         "type": "unknown"
        },
        {
         "name": "TOEFL",
         "rawType": "object",
         "type": "unknown"
        }
       ],
       "ref": "f838c9bf-3fad-4635-8534-670f5a96203b",
       "rows": [
        [
         "1",
         "2.13",
         "390"
        ],
        [
         "2",
         "2.75",
         "413"
        ],
        [
         "3",
         "3.24",
         "400"
        ],
        [
         "4",
         "3.37",
         "396"
        ],
        [
         "5",
         "3.2",
         "460"
        ],
        [
         "6",
         "3.24",
         "403"
        ],
        [
         "7",
         "3.06",
         "450"
        ],
        [
         "8",
         "3.47",
         "423"
        ]
       ],
       "shape": {
        "columns": 2,
        "rows": 8
       }
      },
      "text/html": [
       "<div>\n",
       "<style scoped>\n",
       "    .dataframe tbody tr th:only-of-type {\n",
       "        vertical-align: middle;\n",
       "    }\n",
       "\n",
       "    .dataframe tbody tr th {\n",
       "        vertical-align: top;\n",
       "    }\n",
       "\n",
       "    .dataframe thead th {\n",
       "        text-align: right;\n",
       "    }\n",
       "</style>\n",
       "<table border=\"1\" class=\"dataframe\">\n",
       "  <thead>\n",
       "    <tr style=\"text-align: right;\">\n",
       "      <th></th>\n",
       "      <th>IPK</th>\n",
       "      <th>TOEFL</th>\n",
       "    </tr>\n",
       "  </thead>\n",
       "  <tbody>\n",
       "    <tr>\n",
       "      <th>1</th>\n",
       "      <td>2.13</td>\n",
       "      <td>390</td>\n",
       "    </tr>\n",
       "    <tr>\n",
       "      <th>2</th>\n",
       "      <td>2.75</td>\n",
       "      <td>413</td>\n",
       "    </tr>\n",
       "    <tr>\n",
       "      <th>3</th>\n",
       "      <td>3.24</td>\n",
       "      <td>400</td>\n",
       "    </tr>\n",
       "    <tr>\n",
       "      <th>4</th>\n",
       "      <td>3.37</td>\n",
       "      <td>396</td>\n",
       "    </tr>\n",
       "    <tr>\n",
       "      <th>5</th>\n",
       "      <td>3.2</td>\n",
       "      <td>460</td>\n",
       "    </tr>\n",
       "    <tr>\n",
       "      <th>6</th>\n",
       "      <td>3.24</td>\n",
       "      <td>403</td>\n",
       "    </tr>\n",
       "    <tr>\n",
       "      <th>7</th>\n",
       "      <td>3.06</td>\n",
       "      <td>450</td>\n",
       "    </tr>\n",
       "    <tr>\n",
       "      <th>8</th>\n",
       "      <td>3.47</td>\n",
       "      <td>423</td>\n",
       "    </tr>\n",
       "  </tbody>\n",
       "</table>\n",
       "</div>"
      ],
      "text/plain": [
       "0   IPK TOEFL\n",
       "1  2.13   390\n",
       "2  2.75   413\n",
       "3  3.24   400\n",
       "4  3.37   396\n",
       "5   3.2   460\n",
       "6  3.24   403\n",
       "7  3.06   450\n",
       "8  3.47   423"
      ]
     },
     "execution_count": 8,
     "metadata": {},
     "output_type": "execute_result"
    }
   ],
   "source": [
    "df.loc[:, [\"IPK\", \"TOEFL\"]]"
   ]
  },
  {
   "cell_type": "markdown",
   "id": "f9590d84",
   "metadata": {},
   "source": [
    "## mencari kelulusan berdasarkan IPK dan TOEFL"
   ]
  },
  {
   "cell_type": "code",
   "execution_count": 9,
   "id": "0f957af3",
   "metadata": {},
   "outputs": [
    {
     "data": {
      "application/vnd.microsoft.datawrangler.viewer.v0+json": {
       "columns": [
        {
         "name": "index",
         "rawType": "int64",
         "type": "integer"
        },
        {
         "name": "No",
         "rawType": "object",
         "type": "unknown"
        },
        {
         "name": "NIM",
         "rawType": "object",
         "type": "unknown"
        },
        {
         "name": "TTL",
         "rawType": "object",
         "type": "string"
        },
        {
         "name": "IPK",
         "rawType": "object",
         "type": "unknown"
        },
        {
         "name": "Masa Tunggu",
         "rawType": "object",
         "type": "unknown"
        },
        {
         "name": "Tahun Masuk",
         "rawType": "object",
         "type": "unknown"
        },
        {
         "name": "Tahun Lulus",
         "rawType": "object",
         "type": "unknown"
        },
        {
         "name": "Gaji",
         "rawType": "object",
         "type": "unknown"
        },
        {
         "name": "TOEFL",
         "rawType": "object",
         "type": "unknown"
        },
        {
         "name": "Masa Studi",
         "rawType": "object",
         "type": "unknown"
        },
        {
         "name": "Umur",
         "rawType": "object",
         "type": "unknown"
        },
        {
         "name": "kelulusan",
         "rawType": "object",
         "type": "string"
        }
       ],
       "ref": "4d951a9e-5b41-4a35-812a-fed9ef7915ed",
       "rows": [
        [
         "1",
         "1",
         "9018263",
         "Tapuih, 4 November 1989",
         "2.13",
         "2.4",
         "2009",
         "2016",
         "2000000",
         "390",
         "7",
         "34",
         "tidak lulus"
        ],
        [
         "2",
         "2",
         "9018269",
         "Koto Anau, 19 Desember 1990",
         "2.75",
         "2.4",
         "2009",
         "2016",
         "2000000",
         "413",
         "7",
         "33",
         "tidak lulus"
        ],
        [
         "3",
         "3",
         "9020026",
         "Lampung, 27 Maret 1992",
         "3.24",
         "2.4",
         "2009",
         "2016",
         "2000000",
         "400",
         "7",
         "31",
         "tidak lulus"
        ],
        [
         "4",
         "4",
         "12018060",
         "Padang, 23 Maret 1994",
         "3.37",
         "2.4",
         "2012",
         "2016",
         "2000000",
         "396",
         "4",
         "29",
         "tidak lulus"
        ],
        [
         "5",
         "5",
         "11018022",
         "Jakarta, 22 Juni 1993",
         "3.2",
         "2.4",
         "2011",
         "2016",
         "2000000",
         "460",
         "5",
         "30",
         "lulus"
        ],
        [
         "6",
         "6",
         "9018212",
         "Pekanbaru, 3 Juni 1991",
         "3.24",
         "0",
         "2009",
         "2016",
         "1200000",
         "403",
         "7",
         "32",
         "tidak lulus"
        ],
        [
         "7",
         "7",
         "9018301",
         "Purbalingga, 08 Oktober 1991",
         "3.06",
         "2.4",
         "2009",
         "2016",
         "2000000",
         "450",
         "7",
         "32",
         "lulus"
        ],
        [
         "8",
         "8",
         "12022020",
         "Bukittinggi, 29 Maret 1992",
         "3.47",
         "2.4",
         "2012",
         "2016",
         "1500000",
         "423",
         "4",
         "31",
         "tidak lulus"
        ]
       ],
       "shape": {
        "columns": 12,
        "rows": 8
       }
      },
      "text/html": [
       "<div>\n",
       "<style scoped>\n",
       "    .dataframe tbody tr th:only-of-type {\n",
       "        vertical-align: middle;\n",
       "    }\n",
       "\n",
       "    .dataframe tbody tr th {\n",
       "        vertical-align: top;\n",
       "    }\n",
       "\n",
       "    .dataframe thead th {\n",
       "        text-align: right;\n",
       "    }\n",
       "</style>\n",
       "<table border=\"1\" class=\"dataframe\">\n",
       "  <thead>\n",
       "    <tr style=\"text-align: right;\">\n",
       "      <th></th>\n",
       "      <th>No</th>\n",
       "      <th>NIM</th>\n",
       "      <th>TTL</th>\n",
       "      <th>IPK</th>\n",
       "      <th>Masa Tunggu</th>\n",
       "      <th>Tahun Masuk</th>\n",
       "      <th>Tahun Lulus</th>\n",
       "      <th>Gaji</th>\n",
       "      <th>TOEFL</th>\n",
       "      <th>Masa Studi</th>\n",
       "      <th>Umur</th>\n",
       "      <th>kelulusan</th>\n",
       "    </tr>\n",
       "  </thead>\n",
       "  <tbody>\n",
       "    <tr>\n",
       "      <th>1</th>\n",
       "      <td>1</td>\n",
       "      <td>9018263</td>\n",
       "      <td>Tapuih, 4 November 1989</td>\n",
       "      <td>2.13</td>\n",
       "      <td>2.4</td>\n",
       "      <td>2009</td>\n",
       "      <td>2016</td>\n",
       "      <td>2000000</td>\n",
       "      <td>390</td>\n",
       "      <td>7</td>\n",
       "      <td>34</td>\n",
       "      <td>tidak lulus</td>\n",
       "    </tr>\n",
       "    <tr>\n",
       "      <th>2</th>\n",
       "      <td>2</td>\n",
       "      <td>9018269</td>\n",
       "      <td>Koto Anau, 19 Desember 1990</td>\n",
       "      <td>2.75</td>\n",
       "      <td>2.4</td>\n",
       "      <td>2009</td>\n",
       "      <td>2016</td>\n",
       "      <td>2000000</td>\n",
       "      <td>413</td>\n",
       "      <td>7</td>\n",
       "      <td>33</td>\n",
       "      <td>tidak lulus</td>\n",
       "    </tr>\n",
       "    <tr>\n",
       "      <th>3</th>\n",
       "      <td>3</td>\n",
       "      <td>9020026</td>\n",
       "      <td>Lampung, 27 Maret 1992</td>\n",
       "      <td>3.24</td>\n",
       "      <td>2.4</td>\n",
       "      <td>2009</td>\n",
       "      <td>2016</td>\n",
       "      <td>2000000</td>\n",
       "      <td>400</td>\n",
       "      <td>7</td>\n",
       "      <td>31</td>\n",
       "      <td>tidak lulus</td>\n",
       "    </tr>\n",
       "    <tr>\n",
       "      <th>4</th>\n",
       "      <td>4</td>\n",
       "      <td>12018060</td>\n",
       "      <td>Padang, 23 Maret 1994</td>\n",
       "      <td>3.37</td>\n",
       "      <td>2.4</td>\n",
       "      <td>2012</td>\n",
       "      <td>2016</td>\n",
       "      <td>2000000</td>\n",
       "      <td>396</td>\n",
       "      <td>4</td>\n",
       "      <td>29</td>\n",
       "      <td>tidak lulus</td>\n",
       "    </tr>\n",
       "    <tr>\n",
       "      <th>5</th>\n",
       "      <td>5</td>\n",
       "      <td>11018022</td>\n",
       "      <td>Jakarta, 22 Juni 1993</td>\n",
       "      <td>3.2</td>\n",
       "      <td>2.4</td>\n",
       "      <td>2011</td>\n",
       "      <td>2016</td>\n",
       "      <td>2000000</td>\n",
       "      <td>460</td>\n",
       "      <td>5</td>\n",
       "      <td>30</td>\n",
       "      <td>lulus</td>\n",
       "    </tr>\n",
       "    <tr>\n",
       "      <th>6</th>\n",
       "      <td>6</td>\n",
       "      <td>9018212</td>\n",
       "      <td>Pekanbaru, 3 Juni 1991</td>\n",
       "      <td>3.24</td>\n",
       "      <td>0</td>\n",
       "      <td>2009</td>\n",
       "      <td>2016</td>\n",
       "      <td>1200000</td>\n",
       "      <td>403</td>\n",
       "      <td>7</td>\n",
       "      <td>32</td>\n",
       "      <td>tidak lulus</td>\n",
       "    </tr>\n",
       "    <tr>\n",
       "      <th>7</th>\n",
       "      <td>7</td>\n",
       "      <td>9018301</td>\n",
       "      <td>Purbalingga, 08 Oktober 1991</td>\n",
       "      <td>3.06</td>\n",
       "      <td>2.4</td>\n",
       "      <td>2009</td>\n",
       "      <td>2016</td>\n",
       "      <td>2000000</td>\n",
       "      <td>450</td>\n",
       "      <td>7</td>\n",
       "      <td>32</td>\n",
       "      <td>lulus</td>\n",
       "    </tr>\n",
       "    <tr>\n",
       "      <th>8</th>\n",
       "      <td>8</td>\n",
       "      <td>12022020</td>\n",
       "      <td>Bukittinggi, 29 Maret 1992</td>\n",
       "      <td>3.47</td>\n",
       "      <td>2.4</td>\n",
       "      <td>2012</td>\n",
       "      <td>2016</td>\n",
       "      <td>1500000</td>\n",
       "      <td>423</td>\n",
       "      <td>4</td>\n",
       "      <td>31</td>\n",
       "      <td>tidak lulus</td>\n",
       "    </tr>\n",
       "  </tbody>\n",
       "</table>\n",
       "</div>"
      ],
      "text/plain": [
       "0 No       NIM                           TTL   IPK Masa Tunggu Tahun Masuk  \\\n",
       "1  1   9018263       Tapuih, 4 November 1989  2.13         2.4        2009   \n",
       "2  2   9018269   Koto Anau, 19 Desember 1990  2.75         2.4        2009   \n",
       "3  3   9020026        Lampung, 27 Maret 1992  3.24         2.4        2009   \n",
       "4  4  12018060         Padang, 23 Maret 1994  3.37         2.4        2012   \n",
       "5  5  11018022         Jakarta, 22 Juni 1993   3.2         2.4        2011   \n",
       "6  6   9018212        Pekanbaru, 3 Juni 1991  3.24           0        2009   \n",
       "7  7   9018301  Purbalingga, 08 Oktober 1991  3.06         2.4        2009   \n",
       "8  8  12022020    Bukittinggi, 29 Maret 1992  3.47         2.4        2012   \n",
       "\n",
       "0 Tahun Lulus     Gaji TOEFL Masa Studi Umur    kelulusan  \n",
       "1        2016  2000000   390          7   34  tidak lulus  \n",
       "2        2016  2000000   413          7   33  tidak lulus  \n",
       "3        2016  2000000   400          7   31  tidak lulus  \n",
       "4        2016  2000000   396          4   29  tidak lulus  \n",
       "5        2016  2000000   460          5   30        lulus  \n",
       "6        2016  1200000   403          7   32  tidak lulus  \n",
       "7        2016  2000000   450          7   32        lulus  \n",
       "8        2016  1500000   423          4   31  tidak lulus  "
      ]
     },
     "execution_count": 9,
     "metadata": {},
     "output_type": "execute_result"
    }
   ],
   "source": [
    "for index, row in df.iterrows():\n",
    "    df.loc[index, \"kelulusan\"] = \"lulus\" if float(row[\"IPK\"]) >= 2.5 and int(row[\"TOEFL\"]) >= 450 else \"tidak lulus\"\n",
    "df"
   ]
  }
 ],
 "metadata": {
  "kernelspec": {
   "display_name": "Python 3 (ipykernel)",
   "language": "python",
   "name": "python3"
  },
  "language_info": {
   "codemirror_mode": {
    "name": "ipython",
    "version": 3
   },
   "file_extension": ".py",
   "mimetype": "text/x-python",
   "name": "python",
   "nbconvert_exporter": "python",
   "pygments_lexer": "ipython3",
   "version": "3.13.7"
  }
 },
 "nbformat": 4,
 "nbformat_minor": 5
}
